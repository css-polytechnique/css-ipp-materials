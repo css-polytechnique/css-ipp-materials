{
  "cells": [
    {
      "cell_type": "markdown",
      "metadata": {
        "id": "7PeOBaZTWyIS"
      },
      "source": [
        "# Extract information with LLM\n",
        "\n",
        "Colab notebook written by Emma Bonutti D'Agostini and Emilien Schultz, June 2025."
      ]
    },
    {
      "cell_type": "markdown",
      "metadata": {
        "id": "kEPYHftaWU1j"
      },
      "source": [
        "## Install and import packages"
      ]
    },
    {
      "cell_type": "code",
      "execution_count": null,
      "metadata": {
        "colab": {
          "base_uri": "https://localhost:8080/"
        },
        "id": "5qMeSvb7VXrL",
        "outputId": "ade2e435-84f5-441d-a88a-bbcc6d8cfdb1"
      },
      "outputs": [
        {
          "name": "stdout",
          "output_type": "stream",
          "text": [
            "\u001b[?25l   \u001b[90m━━━━━━━━━━━━━━━━━━━━━━━━━━━━━━━━━━━━━━━━\u001b[0m \u001b[32m0.0/13.5 MB\u001b[0m \u001b[31m?\u001b[0m eta \u001b[36m-:--:--\u001b[0m\r\u001b[2K   \u001b[91m━━━━━━━━\u001b[0m\u001b[91m╸\u001b[0m\u001b[90m━━━━━━━━━━━━━━━━━━━━━━━━━━━━━━━\u001b[0m \u001b[32m3.0/13.5 MB\u001b[0m \u001b[31m86.9 MB/s\u001b[0m eta \u001b[36m0:00:01\u001b[0m\r\u001b[2K   \u001b[91m━━━━━━━━━━━━━━━━━━━━━\u001b[0m\u001b[91m╸\u001b[0m\u001b[90m━━━━━━━━━━━━━━━━━━\u001b[0m \u001b[32m7.4/13.5 MB\u001b[0m \u001b[31m104.2 MB/s\u001b[0m eta \u001b[36m0:00:01\u001b[0m\r\u001b[2K   \u001b[91m━━━━━━━━━━━━━━━━━━━━━━━━━━━━━━━━━━━━━\u001b[0m\u001b[91m╸\u001b[0m\u001b[90m━━\u001b[0m \u001b[32m12.7/13.5 MB\u001b[0m \u001b[31m135.8 MB/s\u001b[0m eta \u001b[36m0:00:01\u001b[0m\r\u001b[2K   \u001b[91m━━━━━━━━━━━━━━━━━━━━━━━━━━━━━━━━━━━━━━━\u001b[0m\u001b[91m╸\u001b[0m \u001b[32m13.5/13.5 MB\u001b[0m \u001b[31m139.2 MB/s\u001b[0m eta \u001b[36m0:00:01\u001b[0m\r\u001b[2K   \u001b[91m━━━━━━━━━━━━━━━━━━━━━━━━━━━━━━━━━━━━━━━\u001b[0m\u001b[91m╸\u001b[0m \u001b[32m13.5/13.5 MB\u001b[0m \u001b[31m139.2 MB/s\u001b[0m eta \u001b[36m0:00:01\u001b[0m\r\u001b[2K   \u001b[90m━━━━━━━━━━━━━━━━━━━━━━━━━━━━━━━━━━━━━━━━\u001b[0m \u001b[32m13.5/13.5 MB\u001b[0m \u001b[31m73.1 MB/s\u001b[0m eta \u001b[36m0:00:00\u001b[0m\n",
            "\u001b[2K   \u001b[90m━━━━━━━━━━━━━━━━━━━━━━━━━━━━━━━━━━━━━━━━\u001b[0m \u001b[32m161.7/161.7 kB\u001b[0m \u001b[31m12.6 MB/s\u001b[0m eta \u001b[36m0:00:00\u001b[0m\n",
            "\u001b[2K   \u001b[90m━━━━━━━━━━━━━━━━━━━━━━━━━━━━━━━━━━━━━━━━\u001b[0m \u001b[32m3.1/3.1 MB\u001b[0m \u001b[31m19.1 MB/s\u001b[0m eta \u001b[36m0:00:00\u001b[0m\n",
            "\u001b[?25h"
          ]
        }
      ],
      "source": [
        "# Install\n",
        "!pip install -q tqdm pandas==2.2.2 scikit-learn==1.6.0 openapi openai Levenshtein"
      ]
    },
    {
      "cell_type": "code",
      "execution_count": null,
      "metadata": {
        "id": "P7LOcKBtWWvF"
      },
      "outputs": [],
      "source": [
        "# Import\n",
        "import pandas as pd\n",
        "import json\n",
        "from openai import OpenAI\n",
        "from tqdm import tqdm\n",
        "import warnings\n",
        "warnings.simplefilter(action='ignore')"
      ]
    },
    {
      "cell_type": "code",
      "execution_count": null,
      "metadata": {
        "colab": {
          "base_uri": "https://localhost:8080/"
        },
        "id": "5GYd0SP-Q7Gr",
        "outputId": "65d3015d-7bdb-4e95-ac93-fecdf8e026c2"
      },
      "outputs": [
        {
          "name": "stdout",
          "output_type": "stream",
          "text": [
            "Mounted at /content/drive\n"
          ]
        }
      ],
      "source": [
        "# If you are working with Colab, connect this notebook to your personal Google Drive account\n",
        "from google.colab import drive\n",
        "drive.mount('/content/drive')"
      ]
    },
    {
      "cell_type": "markdown",
      "metadata": {
        "id": "GFonmutXgO2L"
      },
      "source": [
        "## Define request functions\n",
        "\n",
        "We use open router to prompt different models. We will need to enter our **key**.\n",
        "\n",
        "We will use meta-llama/llama-3.3-70b-instruct which is both efficient and cheap."
      ]
    },
    {
      "cell_type": "code",
      "execution_count": null,
      "metadata": {
        "id": "oCGiT5CARx8o"
      },
      "outputs": [],
      "source": [
        "# Define a function to make requests to the API\n",
        "\n",
        "token_or = \"YOUR KEY\" # INSERT YOUR KEY HERE\n",
        "\n",
        "client = OpenAI(\n",
        "  base_url=\"https://openrouter.ai/api/v1\",\n",
        "  api_key=token_or,\n",
        ")\n",
        "\n",
        "def do_predictions(prompt_generator, texts, model = \"meta-llama/llama-3.3-70b-instruct\"):\n",
        "    \"\"\"\n",
        "    Run a prompt generator on a list of text for a specific model\n",
        "    \"\"\"\n",
        "    results = []\n",
        "    total = len(texts)\n",
        "    with tqdm(total=total, desc=\"Progress\", unit='item',\n",
        "              bar_format='{l_bar}{bar} | {n_fmt}/{total_fmt} [{percentage:3.0f}%]') as pbar:\n",
        "        for i, j in texts.items():\n",
        "            try:\n",
        "                completion = client.chat.completions.create(\n",
        "                    model=model,\n",
        "                    messages=prompt_generator(j)\n",
        "                )\n",
        "                results.append(completion)\n",
        "            except Exception as e:\n",
        "                print(e)\n",
        "                results.append(None)\n",
        "            pbar.update(1)\n",
        "    return results"
      ]
    },
    {
      "cell_type": "markdown",
      "metadata": {
        "id": "5_RYpcqOxBSF"
      },
      "source": [
        "Small test to see if everythings works"
      ]
    },
    {
      "cell_type": "code",
      "execution_count": null,
      "metadata": {
        "colab": {
          "base_uri": "https://localhost:8080/"
        },
        "id": "BByFy7MVRPfe",
        "outputId": "4e8c9c6b-1896-4b9b-d038-ec1e5d77b64b"
      },
      "outputs": [
        {
          "data": {
            "text/plain": [
              "ChatCompletion(id='gen-1753091815-HhFOIqrWZtcmV8mmeBTL', choices=[Choice(finish_reason='stop', index=0, logprobs=None, message=ChatCompletionMessage(content='A joke on computational social science! Here\\'s one:\\n\\nWhy did the agent-based model go to therapy?\\n\\nBecause it was struggling to \"simulate\" human emotions and was feeling a little \"disconnected\" from reality! But in the end, it just needed to \"update\" its parameters and \"recalculate\" its priorities... and then it was able to \"model\" a happier self!\\n\\nHope that one \" computed\" a laugh from you!', refusal=None, role='assistant', annotations=None, audio=None, function_call=None, tool_calls=None, reasoning=None), native_finish_reason='stop')], created=1753091815, model='meta-llama/llama-3.3-70b-instruct', object='chat.completion', service_tier=None, system_fingerprint=None, usage=CompletionUsage(completion_tokens=90, prompt_tokens=21, total_tokens=111, completion_tokens_details=None, prompt_tokens_details=None), provider='Lambda')"
            ]
          },
          "execution_count": 5,
          "metadata": {},
          "output_type": "execute_result"
        }
      ],
      "source": [
        "# With the second model\n",
        "completion = client.chat.completions.create(\n",
        "    model=\"meta-llama/llama-3.3-70b-instruct\",\n",
        "    messages=[\n",
        "    {\n",
        "      \"role\": \"user\",\n",
        "      \"content\": \"Could you make a joke on computational social science ?\"\n",
        "    }\n",
        "  ]\n",
        ")\n",
        "completion"
      ]
    },
    {
      "cell_type": "markdown",
      "metadata": {
        "id": "zlY9kc2PWsp3"
      },
      "source": [
        "# Information extraction\n",
        "Partial replication of \"From Codebooks to Promptbooks\" (Stuhler, Ton and Ollion 2025).\n",
        "\n",
        "- link to [paper](https://journals.sagepub.com/eprint/T3QXU8KV5BP5QYKZTDZI/full)\n",
        "- link to [replication materials](https://osf.io/hwuvs/)\n",
        "\n",
        "The obituaries analyzed in the paper are a synthetic sample - i.e. they are not real obituaties, but generated by AI on the model of NYT obituaries.\n",
        "\n",
        "Again, we will work with a sample of 100 texts to avoid making too many requests.\n",
        "\n",
        "We will replicate together the information extraction for gender (categorical) and educational instution (open field) attended."
      ]
    },
    {
      "cell_type": "markdown",
      "metadata": {
        "id": "VbjvIe6cYesD"
      },
      "source": [
        "## Dataset\n",
        "Let's look at how typical obituaries look, at how the information of interest is presented."
      ]
    },
    {
      "cell_type": "code",
      "execution_count": null,
      "metadata": {
        "colab": {
          "base_uri": "https://localhost:8080/",
          "height": 206
        },
        "id": "DH33ugPmX5Wd",
        "outputId": "3bfc2152-52f1-491b-f3f5-e29839947731"
      },
      "outputs": [
        {
          "data": {
            "application/vnd.google.colaboratory.intrinsic+json": {
              "summary": "{\n  \"name\": \"obits\",\n  \"rows\": 100,\n  \"fields\": [\n    {\n      \"column\": \"Article_ID\",\n      \"properties\": {\n        \"dtype\": \"number\",\n        \"std\": 954612274,\n        \"min\": 423942634,\n        \"max\": 2891611717,\n        \"num_unique_values\": 100,\n        \"samples\": [\n          2242884829,\n          2691795099,\n          432181876\n        ],\n        \"semantic_type\": \"\",\n        \"description\": \"\"\n      }\n    },\n    {\n      \"column\": \"Date\",\n      \"properties\": {\n        \"dtype\": \"object\",\n        \"num_unique_values\": 100,\n        \"samples\": [\n          \"2019-06-19\",\n          \"2022-07-20\",\n          \"2002-09-25\"\n        ],\n        \"semantic_type\": \"\",\n        \"description\": \"\"\n      }\n    },\n    {\n      \"column\": \"text_combined\",\n      \"properties\": {\n        \"dtype\": \"string\",\n        \"num_unique_values\": 100,\n        \"samples\": [\n          \"Date: 2019-06-19\\nObituary title: john smith who promoted literary giants, dies at 78\\nObituary: john smith a dapper, publicity-shy promoter of books who chaperoned the works of dozens of writers, first-time authors as well as distinguished literary figures, onto best-seller lists, died on june 13 at his home in frankford, n.j. he was 78. the cause was mouth cancer, his brother robert said. mr. smith was not an author, but his name could be found between the covers in the acknowledgments pages of books by robert a. caro, john cheever, julia child, michael crichton, john le carr\\u00e9, toni morrison, alice munro, v. s. naipaul, anne rice, barbara tuchman and john updike, among others. authors and reviewers often saved the exuberant handwritten notes he wrote to them in his signature purple ink. jessica mitford, the aristocratic and irreverent nonfiction writer, characterized mr. smith as \\u201cblissful.\\u201d mr. smith spent his entire career at alfred a. knopf. he joined in 1965 and retired in 2002 as vice president and director of publicity at knopf and director of corporate affairs for the imprint\\u2019s parent company, random house. \\u201cbill and knopf were entirely synonymous,\\u201d a former colleague, jane friedman, said, referring to the company whose founder and namesake, the critic clifton fadiman once said, \\u201cmade a profession out of a business and an art out of a profession.\\u201d he frequently lunched with reviewers at the original four seasons on park avenue (he had a regular table in the pool room) and reveled in hosting parties for forthcoming books and their authors at the \\u201c21\\u201d club, the plaza, the rainbow room and the russian tea room. while many book publicists invest their time in arranging interviews for authors on talk shows and appearances in bookstores out of town, mr. smith s priorities were to captivate the critics and to celebrate a book\\u2019s publication with a splash. \\u201cwhat appealed to him was the reviews of the words, the parties, the celebrations,\\u201d ms. friedman, who worked with mr. smith at knopf and was later the president and chief executive of harpercollins publishers worldwide, said in a phone interview. \\u201cand he had a lot to celebrate.\\u201d kathy zuckerman, another former knopf colleague, said in an email that mr. smith \\u201chad the style, panache, great suits and wit of cary grant in \\u2018north by northwest.\\u2019 \\u201d while mr. smith was not an editor himself, he immersed himself in manuscripts and nurtured authors. \\u201cwhen \\u2018the power broker\\u2019 was published in 1974,\\u201d mr. caro recalled, referring to his celebrated biography of new york\\u2019s transformative master builder, robert moses, \\u201ci was a first-time author who had never been interviewed. bill shepherded me through the publication process in a manner so understated and gracious that i hardly realized i was being nursed along.\\u201d mr. smith was rarely quoted in the press; he is mentioned only three times in the archives of the new york times. \\u201cas the head of a department whose chief responsibility was to garner publicity for its books and authors, bill was famous in book-publishing circles for avoiding the limelight for himself,\\u201d said nicholas latimer, knopf\\u2019s vice president and senior director of publicity. among his most prominent appearances in print was a prepared statement in 1978 warning buyers of a cookbook to scratch out the recipe for silky caramel slices. because water had been deleted from the list of printed ingredients during the editing process, he warned, the mixture could be prone to explosion. john thompson smith was born on aug. 1, 1940, in rutherford, n.j., to john n. and helen (knodel) smith his father was chief financial officer of an investment banking firm, his mother a homemaker. after graduating from rutherford high school, where he edited the yearbook, mr. smith earned bachelor\\u2019s and master\\u2019s degrees in english from colgate university. in addition to his brother robert, he is survived by another brother, richard. \\u201cbill always loved literature and books to such an extent that for many years my mother suspected that he had been secretly writing a book,\\u201d robert smith said in an email. \\u201che was not.\\u201d through the stage and film director joshua logan, whom the boys\\u2019 father had met in the army, bill was introduced to bennett cerf, a founder of random house, who recommended that he meet with alfred knopf. mr. smith was red-green colorblind (which may account for the purple ink) and didn\\u2019t own a smartphone. but he was gifted with linguistic skills that could capture and express the world around him as vividly as any photograph. \\u201che had the spirit of an author, the ability to step back and appreciate the message, and the ability to understand what the reading public responded to,\\u201d robert smith said. \\u201cwithout that foundation, the love and respect of the written word, he probably would have been a lousy publicist. but he had that foundation and excelled as a publicist. \\u201cnow the interesting question,\\u201d he added, \\u201cis how in the world alfred knopf sorted that out in his brief interview of bill in 1965.\\u201d\",\n          \"Date: 2022-07-20\\nObituary title: john f. smith jr., nobel prize winner in chemistry, dies at 88\\nObituary:\\nhe and three others discovered unexpectedly simple carbon molecules called buckyballs (think of a soccer ball), spurring explorations of nanotechnology. john f. smith jr., who shared the 1996 nobel prize in chemistry as one of the discoverers of remarkably simple but completely unexpected carbon molecules known as buckyballs, died on july 3 at a retirement home in houston. he was 88. his death was announced by rice university, where dr. smith was a professor emeritus of chemistry. buckyballs, with their round, hollow structure, upended chemists\\u2019 notions of what was possible for the shapes of molecules. a flood of scientists started studying them, spurring the nascent field of nanotechnology and dreams of building molecule-size machines. before buckyballs, pure carbon was known to exist in just a few configurations: stacked in sheets as graphite; arrayed in hard, clear crystals of diamond; and jumbled randomly in amorphous carbon. but in 1985, dr. smith along with richard e. smalley, a rice colleague, and harold w. kroto, a scientist visiting from the university of sussex in england, showed a new configuration: 60 carbon atoms bonded into a molecule that resembled an old-time soccer ball. they also found a larger version made of 70 carbons. the finding was serendipitous, because they had been looking for something else. \\u201cyou could argue it wasn\\u2019t any of our areas of interest,\\u201d james r. heath, a graduate student of dr. smalley\\u2019s who performed many of the buckyball experiments, said in an interview. the chemists named the molecules buckminsterfullerenes after the architect buckminster fuller and his geodesic domes. the name was later shortened to fullerenes or buckyballs. for the experiment, dr. kroto was interested in molecules containing long chains of carbon that had been observed in interstellar space. he hypothesized that the long-chain molecules were created in the atmospheres of carbon-rich red giant stars. \\u201charry had studied these in both the laboratory and in using radio telescopes,\\u201d said dr. heath, now president of the institute for systems biology in seattle, \\u201cbut they were very, very transient. and so you couldn\\u2019t get a picture of how they were made or how abundant they might be.\\u201d at a science conference in 1984, dr. kroto ran into dr. smith an old friend. dr. smith told him about an apparatus of dr. smalley\\u2019s that used a laser to create an intensely hot vapor that coalesced into clusters. dr. kroto realized that this apparatus could create conditions similar to those in the atmosphere of a red giant. dr. smalley was less enthusiastic; vaporizing carbon would be a distraction, taking away time from the machine that might otherwise be used for the semiconductor research that he and dr. smith were pursuing. dr. smalley was even less enthusiastic after a research group at exxon in new jersey reported results of a similar experiment with a similar apparatus. but dr. smalley finally agreed to try it, and the three professors, along with dr. heath and two graduate students, started their work. they indeed discovered the long carbon chains that dr. kroto had wanted to find. they also found something else \\u2014 the buckyballs. dr. heath said dr. smith provided a healthy dose of skepticism during the 11-day whirlwind of discovery. \\u201call of us were like excitable kids,\\u201d dr. heath said. \\u201cand bob was like the adult in the room. and he would come up with reasons that we had to go back and test and make sure that this was right or that was correct. we all viewed bob not like he was a devil\\u2019s advocate \\u2014 more like he was an insurance policy. if bob agreed with you, you were probably right.\\u201d it turned out that the exxon experiments had also created small numbers of buckyballs, but those researchers had overlooked them in their data. at rice, the scientists realized what they had found. \\u201cif mother nature is trying to tell you something, you have to listen,\\u201d dr. smith recalled in a 2016 rice university interview celebrating the 20th anniversary of his nobel. while dr. kroto and dr. smalley pursued further buckyball research, dr. smith soon moved on to other areas of interest. in the 2016 interview, he recalled going to dr. smalley\\u2019s office and finding his colleague filling up binders with papers about buckyballs. \\u201ci don\\u2019t want to be in any field for a full-time job keeping up with the literature,\\u201d dr. smith said. \\u201cthat\\u2019s why i abandoned that area.\\u201d not many practical uses have been found for buckyballs, but other related forms, like nanotubes (rolled-up tubes of carbon) and graphene (single-atom-thick sheets of carbon) have proved promising. in 2010, nasa\\u2019s spitzer space telescope discovered buckyballs in interstellar space. in recent years, dr. smith turned to economics, working on mathematical models to study matters like energy production and automation. john michael smith jr. was born on aug. 23, 1933, in alice, texas. his father was a methodist minister who had helped establish the methodist hospital in san antonio. his mother, lessie, was a homemaker. \\u201cwhen i was 9 years old, my parents gave me a chemistry set,\\u201d dr. smith wrote in an autobiographical sketch for the nobel foundation. \\u201cwithin a week, i had decided to become a chemist and never wavered from that choice.\\u201d in 1954 he received a bachelor\\u2019s in chemistry at rice, then known as the rice institute. he earned his doctorate in chemistry at the university of california, berkeley. after a postdoctoral position at harvard, he returned to rice in 1958 as an assistant professor. he became a full professor in 1967. he retired in 2005, although he continued to work for years. dr. smith married jonel whipple in 1955. his survivors include his wife; two sons, michael and david; and three grandchildren. after dr. smith won the nobel, malcolm gillis, then the president of rice, asked him what he wanted, perhaps worried that bigger-name institutions would be looking to hire him away from the university. dr. smith asked for a bicycle rack near his office. \\u201che was an incredibly modest guy,\\u201d dr. heath said, adding that dr. smith did get his bicycle rack.\",\n          \"Date: 2002-09-25\\nObituary title: john smith 73, massive end and heisman trophy winner\\nObituary: john smith who won the 1949 heisman trophy as a massive end at notre dame and played on detroit lions teams that won three national football league championships, died yesterday at a hospital in south bend, ind. he was 73. smith s death was announced by notre dame, which said he had been hospitalized since sept. 15, the day after he attended the notre dame-michigan game. the cause was not immediately reported. in recent years, smith underwent heart-bypass surgery and was treated for prostate cancer. at 6 feet 4 inches and about 260 pounds, smith was one of college football's biggest ends of his era, and he played on both offense and defense on notre dame squads that dominated the college game in the late 1940's. smith and larry kelley, yale's two-way end who won the heisman trophy in 1936, are the only true linemen to have received the downtown athletic club's award as college football's top player. the other heismans have gone to quarterbacks, running backs, a few wide receivers and a cornerback. smith was a three-time all-american at notre dame. in his four collegiate years, the irish won 36 games and tied 2, and were ranked no. 1 in the nation three times. he was co-captain of the 1949 national-champion team and was named athlete of the year for 1949 by the associated press, winning by a wide margin over the brooklyn dodgers' jackie robinson and the golfer sam snead. he was named to the college football hall of fame in 1973. on offense, smith was a formidable blocker in addition to being a bruising runner once he caught the football. on defense, he was a strong pass rusher. long after retiring from football, he retained pride in having often played a full 60 minutes, and he took a dim view of football's free substitution rules. ''today you ask a guy if he plays football and he says, 'no, i play left linebacker,' '' smith remarked in december 1982 when he came to new york for a heisman ceremony and the showing of a film by bud greenspan on the history of the award. ''i watched a game last year when alabama ran in 70 players by halftime,'' smith said then. ''the game used to belong to the players on the field. now it's a puppet show, a chess game. the quarterback is not a field general anymore.'' smith s ability to overpower defenders after receiving a pass was displayed most notably in notre dame's 14-14 tie against southern california at the los angeles memorial coliseum in 1948. the notre dame coach, frank leahy, told collier's magazine in 1949 how ''eight southern california lads had their arms around john at various times after he caught that short pass from frank tripucka, but john just ran over them and left them for dead.'' ''it was the most destructive run i've ever seen,'' leahy said. smith who came to notre dame out of turtle creek high school, near pittsburgh, caught 49 passes for 751 yards and 13 touchdowns at notre dame. after smith graduated with a degree in mechanical engineering, he was selected by the lions as the first pick in the n.f.l. draft. playing eight seasons with detroit, mostly at end but also at fullback late in his career, he appeared on lions teams that won the n.f.l. championship in 1952, 1953 and 1957, each time defeating the cleveland browns. he was named all-pro in 1951 as both an offensive and defensive end. he caught 174 passes for 2,499 yards and 26 touchdowns and ran for 612 yards and 5 touchdowns, all those rushing scores coming in 1956. after his playing days ended, he lived in birmingham, mich., and owned a company that manufactured tire-balancing equipment. his son kevin played for notre dame in the late 1970's, and a grandson, brendan, is a junior tight end on this year's team. he is also survived by his sons john jr., bill, marty and judd; a daughter, mara filo; and 13 other grandchildren. in 1987, the notre dame wide receiver tim brown won the heisman trophy. reflecting that year on his career with the irish, smith told the los angeles times how it took stamina as well as talent to thrive. ''i never came off the field,'' he said. ''jim martin and i were co-captains in '49, and we just stayed on the field until the score allowed us to leave. i remembered leahy saying, 'leon, don't get hurt because you gotta play anyhow.' '' john smith in 1949, is one of two linemen to win the heisman trophy. (associated press)\"\n        ],\n        \"semantic_type\": \"\",\n        \"description\": \"\"\n      }\n    },\n    {\n      \"column\": \"age_in_years\",\n      \"properties\": {\n        \"dtype\": \"category\",\n        \"num_unique_values\": 47,\n        \"samples\": [\n          \"75\",\n          \"87\",\n          \"68\"\n        ],\n        \"semantic_type\": \"\",\n        \"description\": \"\"\n      }\n    },\n    {\n      \"column\": \"gender\",\n      \"properties\": {\n        \"dtype\": \"category\",\n        \"num_unique_values\": 2,\n        \"samples\": [\n          \"female\",\n          \"male\"\n        ],\n        \"semantic_type\": \"\",\n        \"description\": \"\"\n      }\n    },\n    {\n      \"column\": \"religion\",\n      \"properties\": {\n        \"dtype\": \"category\",\n        \"num_unique_values\": 9,\n        \"samples\": [\n          \"protestant\",\n          \"not mentioned\"\n        ],\n        \"semantic_type\": \"\",\n        \"description\": \"\"\n      }\n    },\n    {\n      \"column\": \"education_institution\",\n      \"properties\": {\n        \"dtype\": \"string\",\n        \"num_unique_values\": 68,\n        \"samples\": [\n          \"university of florida\",\n          \"st. john's university, the brooklyn law school\"\n        ],\n        \"semantic_type\": \"\",\n        \"description\": \"\"\n      }\n    },\n    {\n      \"column\": \"first_name\",\n      \"properties\": {\n        \"dtype\": \"string\",\n        \"num_unique_values\": 84,\n        \"samples\": [\n          \"edward\",\n          \"eliezer\"\n        ],\n        \"semantic_type\": \"\",\n        \"description\": \"\"\n      }\n    },\n    {\n      \"column\": \"last_name\",\n      \"properties\": {\n        \"dtype\": \"string\",\n        \"num_unique_values\": 98,\n        \"samples\": [\n          \"ohmann\",\n          \"renzhong\"\n        ],\n        \"semantic_type\": \"\",\n        \"description\": \"\"\n      }\n    }\n  ]\n}",
              "type": "dataframe",
              "variable_name": "obits"
            },
            "text/html": [
              "\n",
              "  <div id=\"df-6396ee55-8103-484a-80b0-fa76a83b557e\" class=\"colab-df-container\">\n",
              "    <div>\n",
              "<style scoped>\n",
              "    .dataframe tbody tr th:only-of-type {\n",
              "        vertical-align: middle;\n",
              "    }\n",
              "\n",
              "    .dataframe tbody tr th {\n",
              "        vertical-align: top;\n",
              "    }\n",
              "\n",
              "    .dataframe thead th {\n",
              "        text-align: right;\n",
              "    }\n",
              "</style>\n",
              "<table border=\"1\" class=\"dataframe\">\n",
              "  <thead>\n",
              "    <tr style=\"text-align: right;\">\n",
              "      <th></th>\n",
              "      <th>Article_ID</th>\n",
              "      <th>Date</th>\n",
              "      <th>text_combined</th>\n",
              "      <th>age_in_years</th>\n",
              "      <th>gender</th>\n",
              "      <th>religion</th>\n",
              "      <th>education_institution</th>\n",
              "      <th>first_name</th>\n",
              "      <th>last_name</th>\n",
              "    </tr>\n",
              "  </thead>\n",
              "  <tbody>\n",
              "    <tr>\n",
              "      <th>0</th>\n",
              "      <td>431928514</td>\n",
              "      <td>2001-11-03</td>\n",
              "      <td>Date: 2001-11-03\\nObituary title: rabbi john s...</td>\n",
              "      <td>103</td>\n",
              "      <td>male</td>\n",
              "      <td>jewish</td>\n",
              "      <td>not mentioned</td>\n",
              "      <td>eliezer</td>\n",
              "      <td>schach</td>\n",
              "    </tr>\n",
              "    <tr>\n",
              "      <th>1</th>\n",
              "      <td>2038054333</td>\n",
              "      <td>2018-05-13</td>\n",
              "      <td>Date: 2018-05-13\\nObituary title: john smith a...</td>\n",
              "      <td>81</td>\n",
              "      <td>male</td>\n",
              "      <td>not mentioned</td>\n",
              "      <td>not mentioned</td>\n",
              "      <td>ernest</td>\n",
              "      <td>medina</td>\n",
              "    </tr>\n",
              "    <tr>\n",
              "      <th>2</th>\n",
              "      <td>424015567</td>\n",
              "      <td>1980-11-15</td>\n",
              "      <td>Date: 1980-11-15\\nObituary title: john smith a...</td>\n",
              "      <td>74</td>\n",
              "      <td>male</td>\n",
              "      <td>not mentioned</td>\n",
              "      <td>not mentioned</td>\n",
              "      <td>john h.</td>\n",
              "      <td>preston</td>\n",
              "    </tr>\n",
              "    <tr>\n",
              "      <th>3</th>\n",
              "      <td>940930401</td>\n",
              "      <td>2012-03-27</td>\n",
              "      <td>Date: 2012-03-27\\nObituary title: jane smith 8...</td>\n",
              "      <td>82</td>\n",
              "      <td>female</td>\n",
              "      <td>not mentioned</td>\n",
              "      <td>high school of music and art in manhattan</td>\n",
              "      <td>anita</td>\n",
              "      <td>steckel</td>\n",
              "    </tr>\n",
              "    <tr>\n",
              "      <th>4</th>\n",
              "      <td>430642115</td>\n",
              "      <td>1996-08-06</td>\n",
              "      <td>Date: 1996-08-06\\nObituary title: jane smith 5...</td>\n",
              "      <td>58</td>\n",
              "      <td>female</td>\n",
              "      <td>not mentioned</td>\n",
              "      <td>vassar college, fordham university</td>\n",
              "      <td>jean</td>\n",
              "      <td>gerard</td>\n",
              "    </tr>\n",
              "  </tbody>\n",
              "</table>\n",
              "</div>\n",
              "    <div class=\"colab-df-buttons\">\n",
              "\n",
              "  <div class=\"colab-df-container\">\n",
              "    <button class=\"colab-df-convert\" onclick=\"convertToInteractive('df-6396ee55-8103-484a-80b0-fa76a83b557e')\"\n",
              "            title=\"Convert this dataframe to an interactive table.\"\n",
              "            style=\"display:none;\">\n",
              "\n",
              "  <svg xmlns=\"http://www.w3.org/2000/svg\" height=\"24px\" viewBox=\"0 -960 960 960\">\n",
              "    <path d=\"M120-120v-720h720v720H120Zm60-500h600v-160H180v160Zm220 220h160v-160H400v160Zm0 220h160v-160H400v160ZM180-400h160v-160H180v160Zm440 0h160v-160H620v160ZM180-180h160v-160H180v160Zm440 0h160v-160H620v160Z\"/>\n",
              "  </svg>\n",
              "    </button>\n",
              "\n",
              "  <style>\n",
              "    .colab-df-container {\n",
              "      display:flex;\n",
              "      gap: 12px;\n",
              "    }\n",
              "\n",
              "    .colab-df-convert {\n",
              "      background-color: #E8F0FE;\n",
              "      border: none;\n",
              "      border-radius: 50%;\n",
              "      cursor: pointer;\n",
              "      display: none;\n",
              "      fill: #1967D2;\n",
              "      height: 32px;\n",
              "      padding: 0 0 0 0;\n",
              "      width: 32px;\n",
              "    }\n",
              "\n",
              "    .colab-df-convert:hover {\n",
              "      background-color: #E2EBFA;\n",
              "      box-shadow: 0px 1px 2px rgba(60, 64, 67, 0.3), 0px 1px 3px 1px rgba(60, 64, 67, 0.15);\n",
              "      fill: #174EA6;\n",
              "    }\n",
              "\n",
              "    .colab-df-buttons div {\n",
              "      margin-bottom: 4px;\n",
              "    }\n",
              "\n",
              "    [theme=dark] .colab-df-convert {\n",
              "      background-color: #3B4455;\n",
              "      fill: #D2E3FC;\n",
              "    }\n",
              "\n",
              "    [theme=dark] .colab-df-convert:hover {\n",
              "      background-color: #434B5C;\n",
              "      box-shadow: 0px 1px 3px 1px rgba(0, 0, 0, 0.15);\n",
              "      filter: drop-shadow(0px 1px 2px rgba(0, 0, 0, 0.3));\n",
              "      fill: #FFFFFF;\n",
              "    }\n",
              "  </style>\n",
              "\n",
              "    <script>\n",
              "      const buttonEl =\n",
              "        document.querySelector('#df-6396ee55-8103-484a-80b0-fa76a83b557e button.colab-df-convert');\n",
              "      buttonEl.style.display =\n",
              "        google.colab.kernel.accessAllowed ? 'block' : 'none';\n",
              "\n",
              "      async function convertToInteractive(key) {\n",
              "        const element = document.querySelector('#df-6396ee55-8103-484a-80b0-fa76a83b557e');\n",
              "        const dataTable =\n",
              "          await google.colab.kernel.invokeFunction('convertToInteractive',\n",
              "                                                    [key], {});\n",
              "        if (!dataTable) return;\n",
              "\n",
              "        const docLinkHtml = 'Like what you see? Visit the ' +\n",
              "          '<a target=\"_blank\" href=https://colab.research.google.com/notebooks/data_table.ipynb>data table notebook</a>'\n",
              "          + ' to learn more about interactive tables.';\n",
              "        element.innerHTML = '';\n",
              "        dataTable['output_type'] = 'display_data';\n",
              "        await google.colab.output.renderOutput(dataTable, element);\n",
              "        const docLink = document.createElement('div');\n",
              "        docLink.innerHTML = docLinkHtml;\n",
              "        element.appendChild(docLink);\n",
              "      }\n",
              "    </script>\n",
              "  </div>\n",
              "\n",
              "\n",
              "    <div id=\"df-dafa59aa-8dd7-4914-934d-799e4e0817b6\">\n",
              "      <button class=\"colab-df-quickchart\" onclick=\"quickchart('df-dafa59aa-8dd7-4914-934d-799e4e0817b6')\"\n",
              "                title=\"Suggest charts\"\n",
              "                style=\"display:none;\">\n",
              "\n",
              "<svg xmlns=\"http://www.w3.org/2000/svg\" height=\"24px\"viewBox=\"0 0 24 24\"\n",
              "     width=\"24px\">\n",
              "    <g>\n",
              "        <path d=\"M19 3H5c-1.1 0-2 .9-2 2v14c0 1.1.9 2 2 2h14c1.1 0 2-.9 2-2V5c0-1.1-.9-2-2-2zM9 17H7v-7h2v7zm4 0h-2V7h2v10zm4 0h-2v-4h2v4z\"/>\n",
              "    </g>\n",
              "</svg>\n",
              "      </button>\n",
              "\n",
              "<style>\n",
              "  .colab-df-quickchart {\n",
              "      --bg-color: #E8F0FE;\n",
              "      --fill-color: #1967D2;\n",
              "      --hover-bg-color: #E2EBFA;\n",
              "      --hover-fill-color: #174EA6;\n",
              "      --disabled-fill-color: #AAA;\n",
              "      --disabled-bg-color: #DDD;\n",
              "  }\n",
              "\n",
              "  [theme=dark] .colab-df-quickchart {\n",
              "      --bg-color: #3B4455;\n",
              "      --fill-color: #D2E3FC;\n",
              "      --hover-bg-color: #434B5C;\n",
              "      --hover-fill-color: #FFFFFF;\n",
              "      --disabled-bg-color: #3B4455;\n",
              "      --disabled-fill-color: #666;\n",
              "  }\n",
              "\n",
              "  .colab-df-quickchart {\n",
              "    background-color: var(--bg-color);\n",
              "    border: none;\n",
              "    border-radius: 50%;\n",
              "    cursor: pointer;\n",
              "    display: none;\n",
              "    fill: var(--fill-color);\n",
              "    height: 32px;\n",
              "    padding: 0;\n",
              "    width: 32px;\n",
              "  }\n",
              "\n",
              "  .colab-df-quickchart:hover {\n",
              "    background-color: var(--hover-bg-color);\n",
              "    box-shadow: 0 1px 2px rgba(60, 64, 67, 0.3), 0 1px 3px 1px rgba(60, 64, 67, 0.15);\n",
              "    fill: var(--button-hover-fill-color);\n",
              "  }\n",
              "\n",
              "  .colab-df-quickchart-complete:disabled,\n",
              "  .colab-df-quickchart-complete:disabled:hover {\n",
              "    background-color: var(--disabled-bg-color);\n",
              "    fill: var(--disabled-fill-color);\n",
              "    box-shadow: none;\n",
              "  }\n",
              "\n",
              "  .colab-df-spinner {\n",
              "    border: 2px solid var(--fill-color);\n",
              "    border-color: transparent;\n",
              "    border-bottom-color: var(--fill-color);\n",
              "    animation:\n",
              "      spin 1s steps(1) infinite;\n",
              "  }\n",
              "\n",
              "  @keyframes spin {\n",
              "    0% {\n",
              "      border-color: transparent;\n",
              "      border-bottom-color: var(--fill-color);\n",
              "      border-left-color: var(--fill-color);\n",
              "    }\n",
              "    20% {\n",
              "      border-color: transparent;\n",
              "      border-left-color: var(--fill-color);\n",
              "      border-top-color: var(--fill-color);\n",
              "    }\n",
              "    30% {\n",
              "      border-color: transparent;\n",
              "      border-left-color: var(--fill-color);\n",
              "      border-top-color: var(--fill-color);\n",
              "      border-right-color: var(--fill-color);\n",
              "    }\n",
              "    40% {\n",
              "      border-color: transparent;\n",
              "      border-right-color: var(--fill-color);\n",
              "      border-top-color: var(--fill-color);\n",
              "    }\n",
              "    60% {\n",
              "      border-color: transparent;\n",
              "      border-right-color: var(--fill-color);\n",
              "    }\n",
              "    80% {\n",
              "      border-color: transparent;\n",
              "      border-right-color: var(--fill-color);\n",
              "      border-bottom-color: var(--fill-color);\n",
              "    }\n",
              "    90% {\n",
              "      border-color: transparent;\n",
              "      border-bottom-color: var(--fill-color);\n",
              "    }\n",
              "  }\n",
              "</style>\n",
              "\n",
              "      <script>\n",
              "        async function quickchart(key) {\n",
              "          const quickchartButtonEl =\n",
              "            document.querySelector('#' + key + ' button');\n",
              "          quickchartButtonEl.disabled = true;  // To prevent multiple clicks.\n",
              "          quickchartButtonEl.classList.add('colab-df-spinner');\n",
              "          try {\n",
              "            const charts = await google.colab.kernel.invokeFunction(\n",
              "                'suggestCharts', [key], {});\n",
              "          } catch (error) {\n",
              "            console.error('Error during call to suggestCharts:', error);\n",
              "          }\n",
              "          quickchartButtonEl.classList.remove('colab-df-spinner');\n",
              "          quickchartButtonEl.classList.add('colab-df-quickchart-complete');\n",
              "        }\n",
              "        (() => {\n",
              "          let quickchartButtonEl =\n",
              "            document.querySelector('#df-dafa59aa-8dd7-4914-934d-799e4e0817b6 button');\n",
              "          quickchartButtonEl.style.display =\n",
              "            google.colab.kernel.accessAllowed ? 'block' : 'none';\n",
              "        })();\n",
              "      </script>\n",
              "    </div>\n",
              "    </div>\n",
              "  </div>\n"
            ],
            "text/plain": [
              "   Article_ID        Date                                      text_combined  \\\n",
              "0   431928514  2001-11-03  Date: 2001-11-03\\nObituary title: rabbi john s...   \n",
              "1  2038054333  2018-05-13  Date: 2018-05-13\\nObituary title: john smith a...   \n",
              "2   424015567  1980-11-15  Date: 1980-11-15\\nObituary title: john smith a...   \n",
              "3   940930401  2012-03-27  Date: 2012-03-27\\nObituary title: jane smith 8...   \n",
              "4   430642115  1996-08-06  Date: 1996-08-06\\nObituary title: jane smith 5...   \n",
              "\n",
              "  age_in_years  gender       religion  \\\n",
              "0          103    male         jewish   \n",
              "1           81    male  not mentioned   \n",
              "2           74    male  not mentioned   \n",
              "3           82  female  not mentioned   \n",
              "4           58  female  not mentioned   \n",
              "\n",
              "                       education_institution first_name last_name  \n",
              "0                              not mentioned    eliezer    schach  \n",
              "1                              not mentioned     ernest    medina  \n",
              "2                              not mentioned    john h.   preston  \n",
              "3  high school of music and art in manhattan      anita   steckel  \n",
              "4         vassar college, fordham university       jean    gerard  "
            ]
          },
          "execution_count": 6,
          "metadata": {},
          "output_type": "execute_result"
        }
      ],
      "source": [
        "url = \"https://raw.githubusercontent.com/css-polytechnique/ic2s2-tutorial-llm-2025/refs/heads/main/data/obituaries.csv\"\n",
        "obits = pd.read_csv(url)\n",
        "obits.head()"
      ]
    },
    {
      "cell_type": "code",
      "execution_count": null,
      "metadata": {
        "colab": {
          "base_uri": "https://localhost:8080/",
          "height": 143
        },
        "id": "ENS8Te25bh2D",
        "outputId": "cb8e717f-ed88-4607-808f-93cd8127b0a1"
      },
      "outputs": [
        {
          "data": {
            "application/vnd.google.colaboratory.intrinsic+json": {
              "type": "string"
            },
            "text/plain": [
              "\"Date: 1981-08-07\\nObituary title: john smith ex-buffalo mayor; served in mid-70's\\nObituary: john m. smith a one-time grain-mill worker who became mayor of buffalo, died yesterday in deaconess hospital here following exploratory surgery for a respiratory illness. he was 58 years old. mr. smith a democrat, served as mayor from 1973 to 1977. since his decision in 1977 not to run for re-election, he served on the state industrial board of appeals. he was succeeded as mayor by james d. griffin, with whom he once worked in a grain mill. in a city geared to traditional methods in politics, mr. smith rose through the ranks, first with the american federation of grain millers, a.f.l.-c.i.o., and then in government. he was first elected to the former erie county board of supervisors in 1955. in 1959, he was appointed to the buffalo common council as a councilman at large and later became majority leader. in 1969, he became an aide to the late mayor frank a. sedita. in 1972, mr. smith was named the city's first deputy mayor. the next year, mayor sedita resigned because of bad health and mr. smith became mayor by appointment of the common council. later that year, he won a full four-year term in the general election. as mayor, he was involved in several controversies. one was in january 1977, when accusations were made that the city's snow-removal efforts has been mishandled during a blizzard. after his term expired, mr. smith s mayoral image improved, as much of the downtown redevelopment started in his administration was completed. he is survived by his wife, florence, eight children and one grandchild. funeral services will be held monday at st. patrick's roman catholic church in buffalo.\""
            ]
          },
          "execution_count": 7,
          "metadata": {},
          "output_type": "execute_result"
        }
      ],
      "source": [
        "obits['text_combined'].iloc[10]"
      ]
    },
    {
      "cell_type": "markdown",
      "metadata": {
        "id": "vaHEn2jWzCp_"
      },
      "source": [
        "We will extract different pieces of information:\n",
        "\n",
        "- gender (categorical variable)\n",
        "- educational degree (trickier)\n"
      ]
    },
    {
      "cell_type": "markdown",
      "metadata": {
        "id": "OEWJlLfd4Z-w"
      },
      "source": [
        "Comment : obitaries are long texts: cost will be higher"
      ]
    },
    {
      "cell_type": "markdown",
      "metadata": {
        "id": "ncnoYTIqXyu7"
      },
      "source": [
        "## Replication for Gender"
      ]
    },
    {
      "cell_type": "code",
      "execution_count": null,
      "metadata": {
        "colab": {
          "base_uri": "https://localhost:8080/"
        },
        "id": "ukvKd2M3c7dk",
        "outputId": "0111b5a3-85d7-4485-f3cc-9644893f62a0"
      },
      "outputs": [
        {
          "data": {
            "text/plain": [
              "[{'role': 'system',\n",
              "  'content': 'You are a highly efficient information detection and extraction engine, specialized in analyzing natural language data.\\nYou value accuracy: when the user asks you to extract certain information from given text data, you will try your best to adhere to what is directly mentioned in the text and the extraction criteria.\\nYou value efficiency: your responses will be very concise, because they will be stored as values in a dataset. These responses will also strictly follow formatting conventions specified in the extraction prompt. '},\n",
              " {'role': 'user',\n",
              "  'content': \"Below I will provide an obituary of a deceased person.\\nBased on the text, infer the gender of the deceased person. Provide a one-word response from only one of the following options: 'male', 'female', 'other'.\\n\\nThe text : Date: 2018-05-13\\nObituary title: john smith army captain acquitted in my lai massacre, dies at 81\\nObituary: john l. smith the army captain who was accused of overall responsibility for the march 1968 mass killings of unarmed south vietnamese men, women and children by troops he commanded in what became known as the my lai massacre, but was acquitted at a court-martial, died on tuesday in peshtigo, wis. he was 81. his death was confirmed by the thielen funeral home in marinette, a nearby town where he had lived. the cause was not given. on march 16, 1968, a month and a half after north vietnamese and vietcong forces launched the tet offensive, wide-ranging attacks that stunned the american military command in the vietnam war, captain smith and the three platoons of his infantry company entered the village of my lai in south vietnam’s south central coast region. what happened over the hours that followed became one of darkest chapters of american military history. an army inquiry ultimately determined that 347 civilians were killed that day — shot, bayoneted or blasted with grenades. a vietnamese memorial erected at the site has put the toll at 504. but the mass killings were not exposed until november 1969, when the independent journalist seymour hersh, tipped off to the atrocity, wrote of it in a series of articles that brought him a pulitzer prize for international reporting. the revelations were shocking in an america already divided over an increasingly unpopular war. but captain smith and lieutenant william l. calley jr., who was subsequently convicted of murder at a court-martial as the leader of the platoon that carried out the massacre, came to be viewed by many as scapegoats in an unwinnable conflict. captain smith and his men of charlie company, a unit in the 11th brigade of the americal division, engaged in “search and destroy operations” in march 1968 aimed at clearing the vietcong from populated areas where they were presumed to have taken refuge. according to captain smith s later testimony at lieutenant calley’s court-martial, army intelligence had advised that the villagers of my lai (pronounced me-lye) would be doing their customary shopping at a nearby marketplace when the troops arrived. those left in the village at that hour would supposedly be vietcong soldiers who had blended in with the population. the intelligence was faulty. while captain smith remained near his helicopter’s landing spot a few hundred yards outside of my lai, keeping in radio contact with his men, lieutenant calley, an inexperienced officer, and his equally green infantrymen rampaged through the village, encountering only unarmed civilians. the massacre that unfolded did not conclude until a helicopter pilot, chief warrant officer hugh thompson jr., hovering with two crewmen to identify enemy positions by drawing expected vietcong fire, saw signs of mass killings, landed in the village, demanded at gunpoint that lieutenant calley halt the attack and alerted higher authorities by radio. lieutenant calley was convicted of premeditated murder of least 22 civilians at a lengthy court-martial ending in march 1971. he testified that captain smith had ordered him via radio to “get rid of” what the lieutenant had described as “enemy personnel” whose detention was slowing his progress through the village. captain smith denied that the conversation took place and his testimony was corroborated by his radio officer. he testified that in his pre-assault briefing, he had not generally addressed the issue of what to do with civilians in the village since he assumed everyone there would be vietcong. but he testified that when one his troopers asked, “do we kill women and children?” he replied: “no, you do not kill women and children. you must use common sense,” adding that “if they have a weapon and are trying to engage you, then you can shoot back.” lieutenant calley was sentenced to 20 years in prison but the case became embroiled in court battles and he spent a little more than three years confined to barracks or under house arrest at fort benning, ga., before being released. captain smith went on trial in september 1971, defended by the prominent criminal lawyer f. lee bailey, as well as a military lawyer. he was charged with involuntary manslaughter of at least 100 civilians, the murder of a woman and two counts of assault against a prisoner by firing twice over his head to frighten him the night after the massacre. the defense contended that captain smith was unaware of large-scale killings of defenseless civilians until they had already occurred. the prosecution argued that the defense account was not credible since captain smith had been in continual radio contact with his platoons. the court-martial panel of five combat officers returned not guilty verdicts on all counts after an hour’s deliberation. following revelations of the massacre in the news media, the army undertook an official investigation. lt. gen. william r. peers, who oversaw it, declared on march 18, 1970, “our inquiry clearly established that a tragedy of major proportions occurred there on that day.” lieutenant calley was the only soldier convicted on criminal charges in connection with the massacre. maj. gen. samuel w. koster , the commander of the americal division, was found by an army inquiry to have failed to investigate reports of the mass killings adequately. he was demoted one rank, to brigadier general. col. oran henderson , a brigade commander in the division, stood trial and was acquitted of cover-up charges. both had hovered above my lai in their helicopters during the massacre but maintained they had been unaware of mass murders. john michael smith was born on aug. 27, 1936, in springer, n.m., one of two children of simon smith a ranch hand, and his wife, pauline. his mother died of cancer when he was an infant and his father sent him and his sister to live with grandparents in montrose, colo., while pursuing work as a sheepherder. after graduating from high school he enlisted in the army as a private in 1956. he later attended officer candidate school, was commissioned as a lieutenant and arrived in vietnam in december 1967. in the weeks before my lai, lieutenant calley’s platoon had suffered casualties when his men wandered into a minefield. captain smith rescued survivors, an act for which he was later awarded a silver star. mr. smith and mr. calley both resigned from the army after their court-martials. mr. smith settled with his family in marinette and worked as a salesman for a helicopter company and a real estate agent. mr. calley joined a family jewelry business in georgia. mr. smith s survivors include his wife, barbara; his sons greg and cecil and a daughter, ingrid smith his sister, linda lovato, and eight grandchildren. in an interview with the associated press in 1988, mr. smith called the my lai killings a “horrendous thing.” “i have regrets for it, but i have no guilt over it because i didn’t cause it,” he said. “that’s not what the military, particularly the united states army, is trained for.” he said that the my lai killings needed to be viewed in the context of the vietnam war. “there were no front lines,” he said. “it was a guerrilla war. it’s something i feel a lot of draftees were not trained for, a lot of the officers were not trained. i’m talking not just about lieutenants. i’m talking about senior officers.” “but then again, maybe the war should have never happened,” he added. “i think if everybody were to look at it in hindsight, i’m sure a lot of the politicians and generals would think of it otherwise. maybe it was a war that we should have probably never gotten involved in as deeply as we did without the will to win it.” credit: richard goldstein\"}]"
            ]
          },
          "execution_count": 8,
          "metadata": {},
          "output_type": "execute_result"
        }
      ],
      "source": [
        "#Function to build the prompt: system, user, + text to process (passed as argument)\n",
        "\n",
        "prompt_system = (\"You are a highly efficient information detection and extraction engine, specialized in analyzing natural language data.\\n\"\n",
        "    \"You value accuracy: when the user asks you to extract certain information from given text data, you will try your best to adhere to what is directly mentioned in the text and the extraction criteria.\\n\"\n",
        "    \"You value efficiency: your responses will be very concise, because they will be stored as values in a dataset. These responses will also strictly follow formatting conventions specified in the extraction prompt. \")\n",
        "\n",
        "def prompt_user_gender(text):\n",
        "    #Text of the system prompt\n",
        "    return [\n",
        "       {\"role\":\"system\",\"content\":prompt_system},\n",
        "       {\"role\":\"user\",\"content\": \"Below I will provide an obituary of a deceased person.\\n\" +\n",
        "        \"Based on the text, infer the gender of the deceased person. Provide a one-word response from only one of the following options: 'male', 'female', 'other'.\" +\n",
        "        f\"\\n\\nThe text : {text}\"}]\n",
        "\n",
        "# Check if the prompt is correct\n",
        "prompt_user_gender(obits.loc[1,\"text_combined\"])"
      ]
    },
    {
      "cell_type": "markdown",
      "metadata": {
        "id": "NbcO1QXPbkxN"
      },
      "source": [
        "Careful: inference can take several minutes (around 3). For this reason let's  use only a sample of the data"
      ]
    },
    {
      "cell_type": "code",
      "execution_count": null,
      "metadata": {
        "id": "3kcMlC0BCajk"
      },
      "outputs": [],
      "source": [
        "# Create a sample to test\n",
        "N_max = 10\n",
        "df = obits[0:N_max]"
      ]
    },
    {
      "cell_type": "markdown",
      "metadata": {
        "id": "wa9AaxEWCgHz"
      },
      "source": [
        "And run the prompt on the data"
      ]
    },
    {
      "cell_type": "code",
      "execution_count": null,
      "metadata": {
        "colab": {
          "base_uri": "https://localhost:8080/",
          "height": 381
        },
        "id": "JbyFeGFa25-b",
        "outputId": "cf68c257-9b35-4801-c095-5e433f5ab1b0"
      },
      "outputs": [
        {
          "name": "stderr",
          "output_type": "stream",
          "text": [
            "Progress: 100%|██████████ | 10/10 [100%]\n"
          ]
        },
        {
          "data": {
            "application/vnd.google.colaboratory.intrinsic+json": {
              "summary": "{\n  \"name\": \"df[[\\\"gender\\\", \\\"gender_llama33\\\"]]\",\n  \"rows\": 10,\n  \"fields\": [\n    {\n      \"column\": \"gender\",\n      \"properties\": {\n        \"dtype\": \"category\",\n        \"num_unique_values\": 2,\n        \"samples\": [\n          \"female\",\n          \"male\"\n        ],\n        \"semantic_type\": \"\",\n        \"description\": \"\"\n      }\n    },\n    {\n      \"column\": \"gender_llama33\",\n      \"properties\": {\n        \"dtype\": \"category\",\n        \"num_unique_values\": 2,\n        \"samples\": [\n          \"female\",\n          \"male\"\n        ],\n        \"semantic_type\": \"\",\n        \"description\": \"\"\n      }\n    }\n  ]\n}",
              "type": "dataframe"
            },
            "text/html": [
              "\n",
              "  <div id=\"df-65655fa2-b227-4c7f-976e-5c2501bb7bc8\" class=\"colab-df-container\">\n",
              "    <div>\n",
              "<style scoped>\n",
              "    .dataframe tbody tr th:only-of-type {\n",
              "        vertical-align: middle;\n",
              "    }\n",
              "\n",
              "    .dataframe tbody tr th {\n",
              "        vertical-align: top;\n",
              "    }\n",
              "\n",
              "    .dataframe thead th {\n",
              "        text-align: right;\n",
              "    }\n",
              "</style>\n",
              "<table border=\"1\" class=\"dataframe\">\n",
              "  <thead>\n",
              "    <tr style=\"text-align: right;\">\n",
              "      <th></th>\n",
              "      <th>gender</th>\n",
              "      <th>gender_llama33</th>\n",
              "    </tr>\n",
              "  </thead>\n",
              "  <tbody>\n",
              "    <tr>\n",
              "      <th>0</th>\n",
              "      <td>male</td>\n",
              "      <td>male</td>\n",
              "    </tr>\n",
              "    <tr>\n",
              "      <th>1</th>\n",
              "      <td>male</td>\n",
              "      <td>male</td>\n",
              "    </tr>\n",
              "    <tr>\n",
              "      <th>2</th>\n",
              "      <td>male</td>\n",
              "      <td>male</td>\n",
              "    </tr>\n",
              "    <tr>\n",
              "      <th>3</th>\n",
              "      <td>female</td>\n",
              "      <td>female</td>\n",
              "    </tr>\n",
              "    <tr>\n",
              "      <th>4</th>\n",
              "      <td>female</td>\n",
              "      <td>female</td>\n",
              "    </tr>\n",
              "    <tr>\n",
              "      <th>5</th>\n",
              "      <td>male</td>\n",
              "      <td>male</td>\n",
              "    </tr>\n",
              "    <tr>\n",
              "      <th>6</th>\n",
              "      <td>male</td>\n",
              "      <td>male</td>\n",
              "    </tr>\n",
              "    <tr>\n",
              "      <th>7</th>\n",
              "      <td>male</td>\n",
              "      <td>male</td>\n",
              "    </tr>\n",
              "    <tr>\n",
              "      <th>8</th>\n",
              "      <td>male</td>\n",
              "      <td>male</td>\n",
              "    </tr>\n",
              "    <tr>\n",
              "      <th>9</th>\n",
              "      <td>male</td>\n",
              "      <td>male</td>\n",
              "    </tr>\n",
              "  </tbody>\n",
              "</table>\n",
              "</div>\n",
              "    <div class=\"colab-df-buttons\">\n",
              "\n",
              "  <div class=\"colab-df-container\">\n",
              "    <button class=\"colab-df-convert\" onclick=\"convertToInteractive('df-65655fa2-b227-4c7f-976e-5c2501bb7bc8')\"\n",
              "            title=\"Convert this dataframe to an interactive table.\"\n",
              "            style=\"display:none;\">\n",
              "\n",
              "  <svg xmlns=\"http://www.w3.org/2000/svg\" height=\"24px\" viewBox=\"0 -960 960 960\">\n",
              "    <path d=\"M120-120v-720h720v720H120Zm60-500h600v-160H180v160Zm220 220h160v-160H400v160Zm0 220h160v-160H400v160ZM180-400h160v-160H180v160Zm440 0h160v-160H620v160ZM180-180h160v-160H180v160Zm440 0h160v-160H620v160Z\"/>\n",
              "  </svg>\n",
              "    </button>\n",
              "\n",
              "  <style>\n",
              "    .colab-df-container {\n",
              "      display:flex;\n",
              "      gap: 12px;\n",
              "    }\n",
              "\n",
              "    .colab-df-convert {\n",
              "      background-color: #E8F0FE;\n",
              "      border: none;\n",
              "      border-radius: 50%;\n",
              "      cursor: pointer;\n",
              "      display: none;\n",
              "      fill: #1967D2;\n",
              "      height: 32px;\n",
              "      padding: 0 0 0 0;\n",
              "      width: 32px;\n",
              "    }\n",
              "\n",
              "    .colab-df-convert:hover {\n",
              "      background-color: #E2EBFA;\n",
              "      box-shadow: 0px 1px 2px rgba(60, 64, 67, 0.3), 0px 1px 3px 1px rgba(60, 64, 67, 0.15);\n",
              "      fill: #174EA6;\n",
              "    }\n",
              "\n",
              "    .colab-df-buttons div {\n",
              "      margin-bottom: 4px;\n",
              "    }\n",
              "\n",
              "    [theme=dark] .colab-df-convert {\n",
              "      background-color: #3B4455;\n",
              "      fill: #D2E3FC;\n",
              "    }\n",
              "\n",
              "    [theme=dark] .colab-df-convert:hover {\n",
              "      background-color: #434B5C;\n",
              "      box-shadow: 0px 1px 3px 1px rgba(0, 0, 0, 0.15);\n",
              "      filter: drop-shadow(0px 1px 2px rgba(0, 0, 0, 0.3));\n",
              "      fill: #FFFFFF;\n",
              "    }\n",
              "  </style>\n",
              "\n",
              "    <script>\n",
              "      const buttonEl =\n",
              "        document.querySelector('#df-65655fa2-b227-4c7f-976e-5c2501bb7bc8 button.colab-df-convert');\n",
              "      buttonEl.style.display =\n",
              "        google.colab.kernel.accessAllowed ? 'block' : 'none';\n",
              "\n",
              "      async function convertToInteractive(key) {\n",
              "        const element = document.querySelector('#df-65655fa2-b227-4c7f-976e-5c2501bb7bc8');\n",
              "        const dataTable =\n",
              "          await google.colab.kernel.invokeFunction('convertToInteractive',\n",
              "                                                    [key], {});\n",
              "        if (!dataTable) return;\n",
              "\n",
              "        const docLinkHtml = 'Like what you see? Visit the ' +\n",
              "          '<a target=\"_blank\" href=https://colab.research.google.com/notebooks/data_table.ipynb>data table notebook</a>'\n",
              "          + ' to learn more about interactive tables.';\n",
              "        element.innerHTML = '';\n",
              "        dataTable['output_type'] = 'display_data';\n",
              "        await google.colab.output.renderOutput(dataTable, element);\n",
              "        const docLink = document.createElement('div');\n",
              "        docLink.innerHTML = docLinkHtml;\n",
              "        element.appendChild(docLink);\n",
              "      }\n",
              "    </script>\n",
              "  </div>\n",
              "\n",
              "\n",
              "    <div id=\"df-56d47185-5be7-414a-809e-0217f169f010\">\n",
              "      <button class=\"colab-df-quickchart\" onclick=\"quickchart('df-56d47185-5be7-414a-809e-0217f169f010')\"\n",
              "                title=\"Suggest charts\"\n",
              "                style=\"display:none;\">\n",
              "\n",
              "<svg xmlns=\"http://www.w3.org/2000/svg\" height=\"24px\"viewBox=\"0 0 24 24\"\n",
              "     width=\"24px\">\n",
              "    <g>\n",
              "        <path d=\"M19 3H5c-1.1 0-2 .9-2 2v14c0 1.1.9 2 2 2h14c1.1 0 2-.9 2-2V5c0-1.1-.9-2-2-2zM9 17H7v-7h2v7zm4 0h-2V7h2v10zm4 0h-2v-4h2v4z\"/>\n",
              "    </g>\n",
              "</svg>\n",
              "      </button>\n",
              "\n",
              "<style>\n",
              "  .colab-df-quickchart {\n",
              "      --bg-color: #E8F0FE;\n",
              "      --fill-color: #1967D2;\n",
              "      --hover-bg-color: #E2EBFA;\n",
              "      --hover-fill-color: #174EA6;\n",
              "      --disabled-fill-color: #AAA;\n",
              "      --disabled-bg-color: #DDD;\n",
              "  }\n",
              "\n",
              "  [theme=dark] .colab-df-quickchart {\n",
              "      --bg-color: #3B4455;\n",
              "      --fill-color: #D2E3FC;\n",
              "      --hover-bg-color: #434B5C;\n",
              "      --hover-fill-color: #FFFFFF;\n",
              "      --disabled-bg-color: #3B4455;\n",
              "      --disabled-fill-color: #666;\n",
              "  }\n",
              "\n",
              "  .colab-df-quickchart {\n",
              "    background-color: var(--bg-color);\n",
              "    border: none;\n",
              "    border-radius: 50%;\n",
              "    cursor: pointer;\n",
              "    display: none;\n",
              "    fill: var(--fill-color);\n",
              "    height: 32px;\n",
              "    padding: 0;\n",
              "    width: 32px;\n",
              "  }\n",
              "\n",
              "  .colab-df-quickchart:hover {\n",
              "    background-color: var(--hover-bg-color);\n",
              "    box-shadow: 0 1px 2px rgba(60, 64, 67, 0.3), 0 1px 3px 1px rgba(60, 64, 67, 0.15);\n",
              "    fill: var(--button-hover-fill-color);\n",
              "  }\n",
              "\n",
              "  .colab-df-quickchart-complete:disabled,\n",
              "  .colab-df-quickchart-complete:disabled:hover {\n",
              "    background-color: var(--disabled-bg-color);\n",
              "    fill: var(--disabled-fill-color);\n",
              "    box-shadow: none;\n",
              "  }\n",
              "\n",
              "  .colab-df-spinner {\n",
              "    border: 2px solid var(--fill-color);\n",
              "    border-color: transparent;\n",
              "    border-bottom-color: var(--fill-color);\n",
              "    animation:\n",
              "      spin 1s steps(1) infinite;\n",
              "  }\n",
              "\n",
              "  @keyframes spin {\n",
              "    0% {\n",
              "      border-color: transparent;\n",
              "      border-bottom-color: var(--fill-color);\n",
              "      border-left-color: var(--fill-color);\n",
              "    }\n",
              "    20% {\n",
              "      border-color: transparent;\n",
              "      border-left-color: var(--fill-color);\n",
              "      border-top-color: var(--fill-color);\n",
              "    }\n",
              "    30% {\n",
              "      border-color: transparent;\n",
              "      border-left-color: var(--fill-color);\n",
              "      border-top-color: var(--fill-color);\n",
              "      border-right-color: var(--fill-color);\n",
              "    }\n",
              "    40% {\n",
              "      border-color: transparent;\n",
              "      border-right-color: var(--fill-color);\n",
              "      border-top-color: var(--fill-color);\n",
              "    }\n",
              "    60% {\n",
              "      border-color: transparent;\n",
              "      border-right-color: var(--fill-color);\n",
              "    }\n",
              "    80% {\n",
              "      border-color: transparent;\n",
              "      border-right-color: var(--fill-color);\n",
              "      border-bottom-color: var(--fill-color);\n",
              "    }\n",
              "    90% {\n",
              "      border-color: transparent;\n",
              "      border-bottom-color: var(--fill-color);\n",
              "    }\n",
              "  }\n",
              "</style>\n",
              "\n",
              "      <script>\n",
              "        async function quickchart(key) {\n",
              "          const quickchartButtonEl =\n",
              "            document.querySelector('#' + key + ' button');\n",
              "          quickchartButtonEl.disabled = true;  // To prevent multiple clicks.\n",
              "          quickchartButtonEl.classList.add('colab-df-spinner');\n",
              "          try {\n",
              "            const charts = await google.colab.kernel.invokeFunction(\n",
              "                'suggestCharts', [key], {});\n",
              "          } catch (error) {\n",
              "            console.error('Error during call to suggestCharts:', error);\n",
              "          }\n",
              "          quickchartButtonEl.classList.remove('colab-df-spinner');\n",
              "          quickchartButtonEl.classList.add('colab-df-quickchart-complete');\n",
              "        }\n",
              "        (() => {\n",
              "          let quickchartButtonEl =\n",
              "            document.querySelector('#df-56d47185-5be7-414a-809e-0217f169f010 button');\n",
              "          quickchartButtonEl.style.display =\n",
              "            google.colab.kernel.accessAllowed ? 'block' : 'none';\n",
              "        })();\n",
              "      </script>\n",
              "    </div>\n",
              "    </div>\n",
              "  </div>\n"
            ],
            "text/plain": [
              "   gender gender_llama33\n",
              "0    male           male\n",
              "1    male           male\n",
              "2    male           male\n",
              "3  female         female\n",
              "4  female         female\n",
              "5    male           male\n",
              "6    male           male\n",
              "7    male           male\n",
              "8    male           male\n",
              "9    male           male"
            ]
          },
          "execution_count": 10,
          "metadata": {},
          "output_type": "execute_result"
        }
      ],
      "source": [
        "# Run the prompts\n",
        "r_llama33 = do_predictions(prompt_user_gender,\n",
        "                           df['text_combined'],\n",
        "                           \"meta-llama/llama-3.3-70b-instruct\" #test with a different model\n",
        "                           )\n",
        "# Add the result to the dataframe\n",
        "df.loc[:, \"gender_llama33\"] = [i.choices[0].message.content if i is not None else None for i in r_llama33] #same for the second model tested\n",
        "\n",
        "# Save the data\n",
        "df.to_csv(\"table_results.csv\")\n",
        "\n",
        "# Display\n",
        "df[[\"gender\", \"gender_llama33\"]]"
      ]
    },
    {
      "cell_type": "markdown",
      "metadata": {
        "id": "xtDkKZkWCerX"
      },
      "source": [
        "It works pretty well ! Let's get the accuracy."
      ]
    },
    {
      "cell_type": "code",
      "execution_count": null,
      "metadata": {
        "colab": {
          "base_uri": "https://localhost:8080/"
        },
        "id": "NEH6julEEGVJ",
        "outputId": "90a624d6-87ee-4602-d928-4c65c18aca92"
      },
      "outputs": [
        {
          "data": {
            "text/plain": [
              "np.float64(1.0)"
            ]
          },
          "execution_count": 11,
          "metadata": {},
          "output_type": "execute_result"
        }
      ],
      "source": [
        "(df[\"gender\"] == df[\"gender_llama33\"]).mean()"
      ]
    },
    {
      "cell_type": "markdown",
      "metadata": {
        "id": "KhKANDQhYms0"
      },
      "source": [
        "## Replicate for Educational Institution Attended"
      ]
    },
    {
      "cell_type": "code",
      "execution_count": null,
      "metadata": {
        "colab": {
          "base_uri": "https://localhost:8080/"
        },
        "id": "FhX2pWZNWkz_",
        "outputId": "8e07b7eb-fc9c-4b5b-b568-f43c15586868"
      },
      "outputs": [
        {
          "data": {
            "text/plain": [
              "[{'role': 'system',\n",
              "  'content': 'You are a highly efficient information detection and extraction engine, specialized in analyzing natural language data.\\nYou value accuracy: when the user asks you to extract certain information from given text data, you will try your best to adhere to what is directly mentioned in the text and the extraction criteria.\\nYou value efficiency: your responses will be very concise, because they will be stored as values in a dataset. These responses will also strictly follow formatting conventions specified in the extraction prompt. '},\n",
              " {'role': 'user',\n",
              "  'content': \"Below I will provide an obituary of a deceased person.\\nRecord all institutions of higher education that the person obtained a degree from (i.e., universities, colleges, or graduate & professional schools), exactly as written in the text. If the text indicates that this person attended some institution as a student, but did not complete their degree, record this institution as well. When giving your response, consider the following rules:\\n1) Do not include high schools or college preparatory schools.\\n2) Do not include institutions that the person’s friends, family, coworkers or partners attended, unless the deceased person also attended them.\\n3) Obituaries may describe decedents who were employed at academic institutions, such as instructors, scientists, university administrators and coaches. You must distinguish higher education institutions that this person studied at from those that this person worked at. Only institutions where the person studied should be considered in your response. Do not record higher education institutions only because the person worked, taught, or held a job there. For example, if the text says “after transferring from University 1 to study mathematics at University 2, he eventually got a master's degree from University 3. He became a head coach at University 4 and taught sports science at University 5”, your response should only include Universities 1, 2 and 3, but not University 4.\\nIf the text does not mention any institutions of higher education that the person attended, simply respond with “none”.\\nIf your response is a list of two or more institutions, please separate each institution with a comma (e.g.: 'university 1, university 2, university 3').\\n\\nThe text : Date: 2018-05-13\\nObituary title: john smith army captain acquitted in my lai massacre, dies at 81\\nObituary: john l. smith the army captain who was accused of overall responsibility for the march 1968 mass killings of unarmed south vietnamese men, women and children by troops he commanded in what became known as the my lai massacre, but was acquitted at a court-martial, died on tuesday in peshtigo, wis. he was 81. his death was confirmed by the thielen funeral home in marinette, a nearby town where he had lived. the cause was not given. on march 16, 1968, a month and a half after north vietnamese and vietcong forces launched the tet offensive, wide-ranging attacks that stunned the american military command in the vietnam war, captain smith and the three platoons of his infantry company entered the village of my lai in south vietnam’s south central coast region. what happened over the hours that followed became one of darkest chapters of american military history. an army inquiry ultimately determined that 347 civilians were killed that day — shot, bayoneted or blasted with grenades. a vietnamese memorial erected at the site has put the toll at 504. but the mass killings were not exposed until november 1969, when the independent journalist seymour hersh, tipped off to the atrocity, wrote of it in a series of articles that brought him a pulitzer prize for international reporting. the revelations were shocking in an america already divided over an increasingly unpopular war. but captain smith and lieutenant william l. calley jr., who was subsequently convicted of murder at a court-martial as the leader of the platoon that carried out the massacre, came to be viewed by many as scapegoats in an unwinnable conflict. captain smith and his men of charlie company, a unit in the 11th brigade of the americal division, engaged in “search and destroy operations” in march 1968 aimed at clearing the vietcong from populated areas where they were presumed to have taken refuge. according to captain smith s later testimony at lieutenant calley’s court-martial, army intelligence had advised that the villagers of my lai (pronounced me-lye) would be doing their customary shopping at a nearby marketplace when the troops arrived. those left in the village at that hour would supposedly be vietcong soldiers who had blended in with the population. the intelligence was faulty. while captain smith remained near his helicopter’s landing spot a few hundred yards outside of my lai, keeping in radio contact with his men, lieutenant calley, an inexperienced officer, and his equally green infantrymen rampaged through the village, encountering only unarmed civilians. the massacre that unfolded did not conclude until a helicopter pilot, chief warrant officer hugh thompson jr., hovering with two crewmen to identify enemy positions by drawing expected vietcong fire, saw signs of mass killings, landed in the village, demanded at gunpoint that lieutenant calley halt the attack and alerted higher authorities by radio. lieutenant calley was convicted of premeditated murder of least 22 civilians at a lengthy court-martial ending in march 1971. he testified that captain smith had ordered him via radio to “get rid of” what the lieutenant had described as “enemy personnel” whose detention was slowing his progress through the village. captain smith denied that the conversation took place and his testimony was corroborated by his radio officer. he testified that in his pre-assault briefing, he had not generally addressed the issue of what to do with civilians in the village since he assumed everyone there would be vietcong. but he testified that when one his troopers asked, “do we kill women and children?” he replied: “no, you do not kill women and children. you must use common sense,” adding that “if they have a weapon and are trying to engage you, then you can shoot back.” lieutenant calley was sentenced to 20 years in prison but the case became embroiled in court battles and he spent a little more than three years confined to barracks or under house arrest at fort benning, ga., before being released. captain smith went on trial in september 1971, defended by the prominent criminal lawyer f. lee bailey, as well as a military lawyer. he was charged with involuntary manslaughter of at least 100 civilians, the murder of a woman and two counts of assault against a prisoner by firing twice over his head to frighten him the night after the massacre. the defense contended that captain smith was unaware of large-scale killings of defenseless civilians until they had already occurred. the prosecution argued that the defense account was not credible since captain smith had been in continual radio contact with his platoons. the court-martial panel of five combat officers returned not guilty verdicts on all counts after an hour’s deliberation. following revelations of the massacre in the news media, the army undertook an official investigation. lt. gen. william r. peers, who oversaw it, declared on march 18, 1970, “our inquiry clearly established that a tragedy of major proportions occurred there on that day.” lieutenant calley was the only soldier convicted on criminal charges in connection with the massacre. maj. gen. samuel w. koster , the commander of the americal division, was found by an army inquiry to have failed to investigate reports of the mass killings adequately. he was demoted one rank, to brigadier general. col. oran henderson , a brigade commander in the division, stood trial and was acquitted of cover-up charges. both had hovered above my lai in their helicopters during the massacre but maintained they had been unaware of mass murders. john michael smith was born on aug. 27, 1936, in springer, n.m., one of two children of simon smith a ranch hand, and his wife, pauline. his mother died of cancer when he was an infant and his father sent him and his sister to live with grandparents in montrose, colo., while pursuing work as a sheepherder. after graduating from high school he enlisted in the army as a private in 1956. he later attended officer candidate school, was commissioned as a lieutenant and arrived in vietnam in december 1967. in the weeks before my lai, lieutenant calley’s platoon had suffered casualties when his men wandered into a minefield. captain smith rescued survivors, an act for which he was later awarded a silver star. mr. smith and mr. calley both resigned from the army after their court-martials. mr. smith settled with his family in marinette and worked as a salesman for a helicopter company and a real estate agent. mr. calley joined a family jewelry business in georgia. mr. smith s survivors include his wife, barbara; his sons greg and cecil and a daughter, ingrid smith his sister, linda lovato, and eight grandchildren. in an interview with the associated press in 1988, mr. smith called the my lai killings a “horrendous thing.” “i have regrets for it, but i have no guilt over it because i didn’t cause it,” he said. “that’s not what the military, particularly the united states army, is trained for.” he said that the my lai killings needed to be viewed in the context of the vietnam war. “there were no front lines,” he said. “it was a guerrilla war. it’s something i feel a lot of draftees were not trained for, a lot of the officers were not trained. i’m talking not just about lieutenants. i’m talking about senior officers.” “but then again, maybe the war should have never happened,” he added. “i think if everybody were to look at it in hindsight, i’m sure a lot of the politicians and generals would think of it otherwise. maybe it was a war that we should have probably never gotten involved in as deeply as we did without the will to win it.” credit: richard goldstein\"}]"
            ]
          },
          "execution_count": 12,
          "metadata": {},
          "output_type": "execute_result"
        }
      ],
      "source": [
        "# We use the same system prompt but define a new user prompt\n",
        "def prompt_user_educinstit(text):\n",
        "  return [\n",
        "       {\"role\":\"system\",\"content\":prompt_system},\n",
        "       {\"role\":\"user\",\"content\": \"\"\"Below I will provide an obituary of a deceased person.\n",
        "Record all institutions of higher education that the person obtained a degree from (i.e., universities, colleges, or graduate & professional schools), exactly as written in the text. If the text indicates that this person attended some institution as a student, but did not complete their degree, record this institution as well. When giving your response, consider the following rules:\n",
        "1) Do not include high schools or college preparatory schools.\n",
        "2) Do not include institutions that the person’s friends, family, coworkers or partners attended, unless the deceased person also attended them.\n",
        "3) Obituaries may describe decedents who were employed at academic institutions, such as instructors, scientists, university administrators and coaches. You must distinguish higher education institutions that this person studied at from those that this person worked at. Only institutions where the person studied should be considered in your response. Do not record higher education institutions only because the person worked, taught, or held a job there. For example, if the text says “after transferring from University 1 to study mathematics at University 2, he eventually got a master's degree from University 3. He became a head coach at University 4 and taught sports science at University 5”, your response should only include Universities 1, 2 and 3, but not University 4.\n",
        "If the text does not mention any institutions of higher education that the person attended, simply respond with “none”.\n",
        "If your response is a list of two or more institutions, please separate each institution with a comma (e.g.: 'university 1, university 2, university 3').\"\"\" +\n",
        "f\"\\n\\nThe text : {text}\"}]\n",
        "\n",
        "prompt_user_educinstit(obits.loc[1,\"text_combined\"])\n"
      ]
    },
    {
      "cell_type": "code",
      "execution_count": null,
      "metadata": {
        "colab": {
          "base_uri": "https://localhost:8080/",
          "height": 381
        },
        "id": "KortiBcd5d3c",
        "outputId": "76712fe2-5d5c-49fa-98b7-beb002406c37"
      },
      "outputs": [
        {
          "name": "stderr",
          "output_type": "stream",
          "text": [
            "Progress: 100%|██████████ | 10/10 [100%]\n"
          ]
        },
        {
          "data": {
            "application/vnd.google.colaboratory.intrinsic+json": {
              "summary": "{\n  \"name\": \"df[[\\\"education_institution\\\", \\\"education_institution_llama33\\\"]]\",\n  \"rows\": 10,\n  \"fields\": [\n    {\n      \"column\": \"education_institution\",\n      \"properties\": {\n        \"dtype\": \"string\",\n        \"num_unique_values\": 6,\n        \"samples\": [\n          \"not mentioned\",\n          \"high school of music and art in manhattan\",\n          \"hope college\"\n        ],\n        \"semantic_type\": \"\",\n        \"description\": \"\"\n      }\n    },\n    {\n      \"column\": \"education_institution_llama33\",\n      \"properties\": {\n        \"dtype\": \"string\",\n        \"num_unique_values\": 5,\n        \"samples\": [\n          \"Vassar College, Fordham University\",\n          \"Hope College\",\n          \"Penn State University, San Jose State University\"\n        ],\n        \"semantic_type\": \"\",\n        \"description\": \"\"\n      }\n    }\n  ]\n}",
              "type": "dataframe"
            },
            "text/html": [
              "\n",
              "  <div id=\"df-ae15d064-fbf6-4aa5-8ed2-dc11ea314db9\" class=\"colab-df-container\">\n",
              "    <div>\n",
              "<style scoped>\n",
              "    .dataframe tbody tr th:only-of-type {\n",
              "        vertical-align: middle;\n",
              "    }\n",
              "\n",
              "    .dataframe tbody tr th {\n",
              "        vertical-align: top;\n",
              "    }\n",
              "\n",
              "    .dataframe thead th {\n",
              "        text-align: right;\n",
              "    }\n",
              "</style>\n",
              "<table border=\"1\" class=\"dataframe\">\n",
              "  <thead>\n",
              "    <tr style=\"text-align: right;\">\n",
              "      <th></th>\n",
              "      <th>education_institution</th>\n",
              "      <th>education_institution_llama33</th>\n",
              "    </tr>\n",
              "  </thead>\n",
              "  <tbody>\n",
              "    <tr>\n",
              "      <th>0</th>\n",
              "      <td>not mentioned</td>\n",
              "      <td>none</td>\n",
              "    </tr>\n",
              "    <tr>\n",
              "      <th>1</th>\n",
              "      <td>not mentioned</td>\n",
              "      <td>none</td>\n",
              "    </tr>\n",
              "    <tr>\n",
              "      <th>2</th>\n",
              "      <td>not mentioned</td>\n",
              "      <td>none</td>\n",
              "    </tr>\n",
              "    <tr>\n",
              "      <th>3</th>\n",
              "      <td>high school of music and art in manhattan</td>\n",
              "      <td>none</td>\n",
              "    </tr>\n",
              "    <tr>\n",
              "      <th>4</th>\n",
              "      <td>vassar college, fordham university</td>\n",
              "      <td>Vassar College, Fordham University</td>\n",
              "    </tr>\n",
              "    <tr>\n",
              "      <th>5</th>\n",
              "      <td>not mentioned</td>\n",
              "      <td>none</td>\n",
              "    </tr>\n",
              "    <tr>\n",
              "      <th>6</th>\n",
              "      <td>san jose state university, penn state university</td>\n",
              "      <td>Penn State University, San Jose State University</td>\n",
              "    </tr>\n",
              "    <tr>\n",
              "      <th>7</th>\n",
              "      <td>st john's university law school</td>\n",
              "      <td>St. John's University Law School</td>\n",
              "    </tr>\n",
              "    <tr>\n",
              "      <th>8</th>\n",
              "      <td>hope college</td>\n",
              "      <td>Hope College</td>\n",
              "    </tr>\n",
              "    <tr>\n",
              "      <th>9</th>\n",
              "      <td>not mentioned</td>\n",
              "      <td>none</td>\n",
              "    </tr>\n",
              "  </tbody>\n",
              "</table>\n",
              "</div>\n",
              "    <div class=\"colab-df-buttons\">\n",
              "\n",
              "  <div class=\"colab-df-container\">\n",
              "    <button class=\"colab-df-convert\" onclick=\"convertToInteractive('df-ae15d064-fbf6-4aa5-8ed2-dc11ea314db9')\"\n",
              "            title=\"Convert this dataframe to an interactive table.\"\n",
              "            style=\"display:none;\">\n",
              "\n",
              "  <svg xmlns=\"http://www.w3.org/2000/svg\" height=\"24px\" viewBox=\"0 -960 960 960\">\n",
              "    <path d=\"M120-120v-720h720v720H120Zm60-500h600v-160H180v160Zm220 220h160v-160H400v160Zm0 220h160v-160H400v160ZM180-400h160v-160H180v160Zm440 0h160v-160H620v160ZM180-180h160v-160H180v160Zm440 0h160v-160H620v160Z\"/>\n",
              "  </svg>\n",
              "    </button>\n",
              "\n",
              "  <style>\n",
              "    .colab-df-container {\n",
              "      display:flex;\n",
              "      gap: 12px;\n",
              "    }\n",
              "\n",
              "    .colab-df-convert {\n",
              "      background-color: #E8F0FE;\n",
              "      border: none;\n",
              "      border-radius: 50%;\n",
              "      cursor: pointer;\n",
              "      display: none;\n",
              "      fill: #1967D2;\n",
              "      height: 32px;\n",
              "      padding: 0 0 0 0;\n",
              "      width: 32px;\n",
              "    }\n",
              "\n",
              "    .colab-df-convert:hover {\n",
              "      background-color: #E2EBFA;\n",
              "      box-shadow: 0px 1px 2px rgba(60, 64, 67, 0.3), 0px 1px 3px 1px rgba(60, 64, 67, 0.15);\n",
              "      fill: #174EA6;\n",
              "    }\n",
              "\n",
              "    .colab-df-buttons div {\n",
              "      margin-bottom: 4px;\n",
              "    }\n",
              "\n",
              "    [theme=dark] .colab-df-convert {\n",
              "      background-color: #3B4455;\n",
              "      fill: #D2E3FC;\n",
              "    }\n",
              "\n",
              "    [theme=dark] .colab-df-convert:hover {\n",
              "      background-color: #434B5C;\n",
              "      box-shadow: 0px 1px 3px 1px rgba(0, 0, 0, 0.15);\n",
              "      filter: drop-shadow(0px 1px 2px rgba(0, 0, 0, 0.3));\n",
              "      fill: #FFFFFF;\n",
              "    }\n",
              "  </style>\n",
              "\n",
              "    <script>\n",
              "      const buttonEl =\n",
              "        document.querySelector('#df-ae15d064-fbf6-4aa5-8ed2-dc11ea314db9 button.colab-df-convert');\n",
              "      buttonEl.style.display =\n",
              "        google.colab.kernel.accessAllowed ? 'block' : 'none';\n",
              "\n",
              "      async function convertToInteractive(key) {\n",
              "        const element = document.querySelector('#df-ae15d064-fbf6-4aa5-8ed2-dc11ea314db9');\n",
              "        const dataTable =\n",
              "          await google.colab.kernel.invokeFunction('convertToInteractive',\n",
              "                                                    [key], {});\n",
              "        if (!dataTable) return;\n",
              "\n",
              "        const docLinkHtml = 'Like what you see? Visit the ' +\n",
              "          '<a target=\"_blank\" href=https://colab.research.google.com/notebooks/data_table.ipynb>data table notebook</a>'\n",
              "          + ' to learn more about interactive tables.';\n",
              "        element.innerHTML = '';\n",
              "        dataTable['output_type'] = 'display_data';\n",
              "        await google.colab.output.renderOutput(dataTable, element);\n",
              "        const docLink = document.createElement('div');\n",
              "        docLink.innerHTML = docLinkHtml;\n",
              "        element.appendChild(docLink);\n",
              "      }\n",
              "    </script>\n",
              "  </div>\n",
              "\n",
              "\n",
              "    <div id=\"df-cee3859c-0415-46d8-a35c-0150466ec9ba\">\n",
              "      <button class=\"colab-df-quickchart\" onclick=\"quickchart('df-cee3859c-0415-46d8-a35c-0150466ec9ba')\"\n",
              "                title=\"Suggest charts\"\n",
              "                style=\"display:none;\">\n",
              "\n",
              "<svg xmlns=\"http://www.w3.org/2000/svg\" height=\"24px\"viewBox=\"0 0 24 24\"\n",
              "     width=\"24px\">\n",
              "    <g>\n",
              "        <path d=\"M19 3H5c-1.1 0-2 .9-2 2v14c0 1.1.9 2 2 2h14c1.1 0 2-.9 2-2V5c0-1.1-.9-2-2-2zM9 17H7v-7h2v7zm4 0h-2V7h2v10zm4 0h-2v-4h2v4z\"/>\n",
              "    </g>\n",
              "</svg>\n",
              "      </button>\n",
              "\n",
              "<style>\n",
              "  .colab-df-quickchart {\n",
              "      --bg-color: #E8F0FE;\n",
              "      --fill-color: #1967D2;\n",
              "      --hover-bg-color: #E2EBFA;\n",
              "      --hover-fill-color: #174EA6;\n",
              "      --disabled-fill-color: #AAA;\n",
              "      --disabled-bg-color: #DDD;\n",
              "  }\n",
              "\n",
              "  [theme=dark] .colab-df-quickchart {\n",
              "      --bg-color: #3B4455;\n",
              "      --fill-color: #D2E3FC;\n",
              "      --hover-bg-color: #434B5C;\n",
              "      --hover-fill-color: #FFFFFF;\n",
              "      --disabled-bg-color: #3B4455;\n",
              "      --disabled-fill-color: #666;\n",
              "  }\n",
              "\n",
              "  .colab-df-quickchart {\n",
              "    background-color: var(--bg-color);\n",
              "    border: none;\n",
              "    border-radius: 50%;\n",
              "    cursor: pointer;\n",
              "    display: none;\n",
              "    fill: var(--fill-color);\n",
              "    height: 32px;\n",
              "    padding: 0;\n",
              "    width: 32px;\n",
              "  }\n",
              "\n",
              "  .colab-df-quickchart:hover {\n",
              "    background-color: var(--hover-bg-color);\n",
              "    box-shadow: 0 1px 2px rgba(60, 64, 67, 0.3), 0 1px 3px 1px rgba(60, 64, 67, 0.15);\n",
              "    fill: var(--button-hover-fill-color);\n",
              "  }\n",
              "\n",
              "  .colab-df-quickchart-complete:disabled,\n",
              "  .colab-df-quickchart-complete:disabled:hover {\n",
              "    background-color: var(--disabled-bg-color);\n",
              "    fill: var(--disabled-fill-color);\n",
              "    box-shadow: none;\n",
              "  }\n",
              "\n",
              "  .colab-df-spinner {\n",
              "    border: 2px solid var(--fill-color);\n",
              "    border-color: transparent;\n",
              "    border-bottom-color: var(--fill-color);\n",
              "    animation:\n",
              "      spin 1s steps(1) infinite;\n",
              "  }\n",
              "\n",
              "  @keyframes spin {\n",
              "    0% {\n",
              "      border-color: transparent;\n",
              "      border-bottom-color: var(--fill-color);\n",
              "      border-left-color: var(--fill-color);\n",
              "    }\n",
              "    20% {\n",
              "      border-color: transparent;\n",
              "      border-left-color: var(--fill-color);\n",
              "      border-top-color: var(--fill-color);\n",
              "    }\n",
              "    30% {\n",
              "      border-color: transparent;\n",
              "      border-left-color: var(--fill-color);\n",
              "      border-top-color: var(--fill-color);\n",
              "      border-right-color: var(--fill-color);\n",
              "    }\n",
              "    40% {\n",
              "      border-color: transparent;\n",
              "      border-right-color: var(--fill-color);\n",
              "      border-top-color: var(--fill-color);\n",
              "    }\n",
              "    60% {\n",
              "      border-color: transparent;\n",
              "      border-right-color: var(--fill-color);\n",
              "    }\n",
              "    80% {\n",
              "      border-color: transparent;\n",
              "      border-right-color: var(--fill-color);\n",
              "      border-bottom-color: var(--fill-color);\n",
              "    }\n",
              "    90% {\n",
              "      border-color: transparent;\n",
              "      border-bottom-color: var(--fill-color);\n",
              "    }\n",
              "  }\n",
              "</style>\n",
              "\n",
              "      <script>\n",
              "        async function quickchart(key) {\n",
              "          const quickchartButtonEl =\n",
              "            document.querySelector('#' + key + ' button');\n",
              "          quickchartButtonEl.disabled = true;  // To prevent multiple clicks.\n",
              "          quickchartButtonEl.classList.add('colab-df-spinner');\n",
              "          try {\n",
              "            const charts = await google.colab.kernel.invokeFunction(\n",
              "                'suggestCharts', [key], {});\n",
              "          } catch (error) {\n",
              "            console.error('Error during call to suggestCharts:', error);\n",
              "          }\n",
              "          quickchartButtonEl.classList.remove('colab-df-spinner');\n",
              "          quickchartButtonEl.classList.add('colab-df-quickchart-complete');\n",
              "        }\n",
              "        (() => {\n",
              "          let quickchartButtonEl =\n",
              "            document.querySelector('#df-cee3859c-0415-46d8-a35c-0150466ec9ba button');\n",
              "          quickchartButtonEl.style.display =\n",
              "            google.colab.kernel.accessAllowed ? 'block' : 'none';\n",
              "        })();\n",
              "      </script>\n",
              "    </div>\n",
              "    </div>\n",
              "  </div>\n"
            ],
            "text/plain": [
              "                              education_institution  \\\n",
              "0                                     not mentioned   \n",
              "1                                     not mentioned   \n",
              "2                                     not mentioned   \n",
              "3         high school of music and art in manhattan   \n",
              "4                vassar college, fordham university   \n",
              "5                                     not mentioned   \n",
              "6  san jose state university, penn state university   \n",
              "7                   st john's university law school   \n",
              "8                                      hope college   \n",
              "9                                     not mentioned   \n",
              "\n",
              "                      education_institution_llama33  \n",
              "0                                              none  \n",
              "1                                              none  \n",
              "2                                              none  \n",
              "3                                              none  \n",
              "4                Vassar College, Fordham University  \n",
              "5                                              none  \n",
              "6  Penn State University, San Jose State University  \n",
              "7                  St. John's University Law School  \n",
              "8                                      Hope College  \n",
              "9                                              none  "
            ]
          },
          "execution_count": 13,
          "metadata": {},
          "output_type": "execute_result"
        }
      ],
      "source": [
        "# Run the prompts\n",
        "r_llama33 = do_predictions(prompt_user_educinstit,\n",
        "                           df['text_combined'],\n",
        "                           \"meta-llama/llama-3.3-70b-instruct\" #test with a different model\n",
        "                           )\n",
        "# Add the result to the dataframe\n",
        "df.loc[:, \"education_institution_llama33\"] = [i.choices[0].message.content if i is not None else None for i in r_llama33] #same for the second model tested\n",
        "\n",
        "# Save the data\n",
        "df.to_csv(\"table_results.csv\")\n",
        "\n",
        "# Display\n",
        "df[[\"education_institution\", \"education_institution_llama33\"]]"
      ]
    },
    {
      "cell_type": "markdown",
      "metadata": {
        "id": "m4qKtEaXEgQ0"
      },
      "source": [
        "A raw accuracy yields catastrophic validation metrics"
      ]
    },
    {
      "cell_type": "code",
      "execution_count": null,
      "metadata": {
        "colab": {
          "base_uri": "https://localhost:8080/"
        },
        "id": "8ARcYabmEYgq",
        "outputId": "eca07cad-f9a9-4384-cd9b-a58fadfbb873"
      },
      "outputs": [
        {
          "data": {
            "text/plain": [
              "np.float64(0.0)"
            ]
          },
          "execution_count": 14,
          "metadata": {},
          "output_type": "execute_result"
        }
      ],
      "source": [
        "(df[\"education_institution_llama33\"] == df[\"education_institution\"]).mean()"
      ]
    },
    {
      "cell_type": "markdown",
      "metadata": {
        "id": "d3zdwIiiYKsN"
      },
      "source": [
        "# Your turn to try!\n",
        "\n",
        "Try with a different model\n",
        "\n",
        "Try to better define the extraction format to limit the variation\n",
        "\n",
        "Try with the variable religion. Do you notice something?\n"
      ]
    },
    {
      "cell_type": "code",
      "execution_count": null,
      "metadata": {
        "id": "Vp7VSX-GVzW-"
      },
      "outputs": [],
      "source": []
    },
    {
      "cell_type": "code",
      "execution_count": null,
      "metadata": {
        "id": "Z8jIxT9_V0KH"
      },
      "outputs": [],
      "source": []
    },
    {
      "cell_type": "markdown",
      "metadata": {
        "id": "qvhwFyHMX-kJ"
      },
      "source": [
        "There are differences, but are they significant differences ? How to compute metrics ?"
      ]
    },
    {
      "cell_type": "markdown",
      "metadata": {
        "id": "wjqNXrvJgMLv"
      },
      "source": [
        "# Taking into account variations\n",
        "\n",
        "Since the generative process generates free responses, we need to design a strategy to deal with them.\n",
        "\n",
        "Different strategies can be used:\n",
        "\n",
        "- systematic modification : lower case, remove punctuation\n",
        "- human judgment on disagreement to validate\n",
        "- LLM-as-a-judge with a new request to a LLM\n",
        "\n",
        "For the article, we used human-in-the-loop:\n",
        "\n",
        "1. A first comparison with the gold standard with simple automatic rules\n",
        "2. A human to judge if the disagreement is real (with 3 possibilities : disagreement, agreement, partial agreement)\n",
        "3. Computation of the metrics using the human loop results\n",
        "\n",
        "So we have 2 rules to decide if a prediction is correct:\n",
        "\n",
        "- it is the same string with small variations (1/2 different letters or punctuation)\n",
        "- if a human decides it is the same"
      ]
    },
    {
      "cell_type": "code",
      "execution_count": null,
      "metadata": {
        "colab": {
          "base_uri": "https://localhost:8080/",
          "height": 363
        },
        "id": "RX5aKn6zIEOu",
        "outputId": "fb48c3f2-086e-40b1-943d-09439fceab1e"
      },
      "outputs": [
        {
          "data": {
            "application/vnd.google.colaboratory.intrinsic+json": {
              "summary": "{\n  \"name\": \"df_compare\",\n  \"rows\": 10,\n  \"fields\": [\n    {\n      \"column\": \"education_institution\",\n      \"properties\": {\n        \"dtype\": \"string\",\n        \"num_unique_values\": 6,\n        \"samples\": [\n          \"not mentioned\",\n          \"high school of music and art in manhattan\",\n          \"hope college\"\n        ],\n        \"semantic_type\": \"\",\n        \"description\": \"\"\n      }\n    },\n    {\n      \"column\": \"education_institution_llama33\",\n      \"properties\": {\n        \"dtype\": \"string\",\n        \"num_unique_values\": 5,\n        \"samples\": [\n          \"Vassar College, Fordham University\",\n          \"Hope College\",\n          \"Penn State University, San Jose State University\"\n        ],\n        \"semantic_type\": \"\",\n        \"description\": \"\"\n      }\n    }\n  ]\n}",
              "type": "dataframe",
              "variable_name": "df_compare"
            },
            "text/html": [
              "\n",
              "  <div id=\"df-781ad773-6a62-4804-8cce-6e6d659a50cd\" class=\"colab-df-container\">\n",
              "    <div>\n",
              "<style scoped>\n",
              "    .dataframe tbody tr th:only-of-type {\n",
              "        vertical-align: middle;\n",
              "    }\n",
              "\n",
              "    .dataframe tbody tr th {\n",
              "        vertical-align: top;\n",
              "    }\n",
              "\n",
              "    .dataframe thead th {\n",
              "        text-align: right;\n",
              "    }\n",
              "</style>\n",
              "<table border=\"1\" class=\"dataframe\">\n",
              "  <thead>\n",
              "    <tr style=\"text-align: right;\">\n",
              "      <th></th>\n",
              "      <th>education_institution</th>\n",
              "      <th>education_institution_llama33</th>\n",
              "    </tr>\n",
              "  </thead>\n",
              "  <tbody>\n",
              "    <tr>\n",
              "      <th>0</th>\n",
              "      <td>not mentioned</td>\n",
              "      <td>none</td>\n",
              "    </tr>\n",
              "    <tr>\n",
              "      <th>1</th>\n",
              "      <td>not mentioned</td>\n",
              "      <td>none</td>\n",
              "    </tr>\n",
              "    <tr>\n",
              "      <th>2</th>\n",
              "      <td>not mentioned</td>\n",
              "      <td>none</td>\n",
              "    </tr>\n",
              "    <tr>\n",
              "      <th>3</th>\n",
              "      <td>high school of music and art in manhattan</td>\n",
              "      <td>none</td>\n",
              "    </tr>\n",
              "    <tr>\n",
              "      <th>4</th>\n",
              "      <td>vassar college, fordham university</td>\n",
              "      <td>Vassar College, Fordham University</td>\n",
              "    </tr>\n",
              "    <tr>\n",
              "      <th>5</th>\n",
              "      <td>not mentioned</td>\n",
              "      <td>none</td>\n",
              "    </tr>\n",
              "    <tr>\n",
              "      <th>6</th>\n",
              "      <td>san jose state university, penn state university</td>\n",
              "      <td>Penn State University, San Jose State University</td>\n",
              "    </tr>\n",
              "    <tr>\n",
              "      <th>7</th>\n",
              "      <td>st john's university law school</td>\n",
              "      <td>St. John's University Law School</td>\n",
              "    </tr>\n",
              "    <tr>\n",
              "      <th>8</th>\n",
              "      <td>hope college</td>\n",
              "      <td>Hope College</td>\n",
              "    </tr>\n",
              "    <tr>\n",
              "      <th>9</th>\n",
              "      <td>not mentioned</td>\n",
              "      <td>none</td>\n",
              "    </tr>\n",
              "  </tbody>\n",
              "</table>\n",
              "</div>\n",
              "    <div class=\"colab-df-buttons\">\n",
              "\n",
              "  <div class=\"colab-df-container\">\n",
              "    <button class=\"colab-df-convert\" onclick=\"convertToInteractive('df-781ad773-6a62-4804-8cce-6e6d659a50cd')\"\n",
              "            title=\"Convert this dataframe to an interactive table.\"\n",
              "            style=\"display:none;\">\n",
              "\n",
              "  <svg xmlns=\"http://www.w3.org/2000/svg\" height=\"24px\" viewBox=\"0 -960 960 960\">\n",
              "    <path d=\"M120-120v-720h720v720H120Zm60-500h600v-160H180v160Zm220 220h160v-160H400v160Zm0 220h160v-160H400v160ZM180-400h160v-160H180v160Zm440 0h160v-160H620v160ZM180-180h160v-160H180v160Zm440 0h160v-160H620v160Z\"/>\n",
              "  </svg>\n",
              "    </button>\n",
              "\n",
              "  <style>\n",
              "    .colab-df-container {\n",
              "      display:flex;\n",
              "      gap: 12px;\n",
              "    }\n",
              "\n",
              "    .colab-df-convert {\n",
              "      background-color: #E8F0FE;\n",
              "      border: none;\n",
              "      border-radius: 50%;\n",
              "      cursor: pointer;\n",
              "      display: none;\n",
              "      fill: #1967D2;\n",
              "      height: 32px;\n",
              "      padding: 0 0 0 0;\n",
              "      width: 32px;\n",
              "    }\n",
              "\n",
              "    .colab-df-convert:hover {\n",
              "      background-color: #E2EBFA;\n",
              "      box-shadow: 0px 1px 2px rgba(60, 64, 67, 0.3), 0px 1px 3px 1px rgba(60, 64, 67, 0.15);\n",
              "      fill: #174EA6;\n",
              "    }\n",
              "\n",
              "    .colab-df-buttons div {\n",
              "      margin-bottom: 4px;\n",
              "    }\n",
              "\n",
              "    [theme=dark] .colab-df-convert {\n",
              "      background-color: #3B4455;\n",
              "      fill: #D2E3FC;\n",
              "    }\n",
              "\n",
              "    [theme=dark] .colab-df-convert:hover {\n",
              "      background-color: #434B5C;\n",
              "      box-shadow: 0px 1px 3px 1px rgba(0, 0, 0, 0.15);\n",
              "      filter: drop-shadow(0px 1px 2px rgba(0, 0, 0, 0.3));\n",
              "      fill: #FFFFFF;\n",
              "    }\n",
              "  </style>\n",
              "\n",
              "    <script>\n",
              "      const buttonEl =\n",
              "        document.querySelector('#df-781ad773-6a62-4804-8cce-6e6d659a50cd button.colab-df-convert');\n",
              "      buttonEl.style.display =\n",
              "        google.colab.kernel.accessAllowed ? 'block' : 'none';\n",
              "\n",
              "      async function convertToInteractive(key) {\n",
              "        const element = document.querySelector('#df-781ad773-6a62-4804-8cce-6e6d659a50cd');\n",
              "        const dataTable =\n",
              "          await google.colab.kernel.invokeFunction('convertToInteractive',\n",
              "                                                    [key], {});\n",
              "        if (!dataTable) return;\n",
              "\n",
              "        const docLinkHtml = 'Like what you see? Visit the ' +\n",
              "          '<a target=\"_blank\" href=https://colab.research.google.com/notebooks/data_table.ipynb>data table notebook</a>'\n",
              "          + ' to learn more about interactive tables.';\n",
              "        element.innerHTML = '';\n",
              "        dataTable['output_type'] = 'display_data';\n",
              "        await google.colab.output.renderOutput(dataTable, element);\n",
              "        const docLink = document.createElement('div');\n",
              "        docLink.innerHTML = docLinkHtml;\n",
              "        element.appendChild(docLink);\n",
              "      }\n",
              "    </script>\n",
              "  </div>\n",
              "\n",
              "\n",
              "    <div id=\"df-7e926466-5a47-4cff-a7cd-b7ac0ca81534\">\n",
              "      <button class=\"colab-df-quickchart\" onclick=\"quickchart('df-7e926466-5a47-4cff-a7cd-b7ac0ca81534')\"\n",
              "                title=\"Suggest charts\"\n",
              "                style=\"display:none;\">\n",
              "\n",
              "<svg xmlns=\"http://www.w3.org/2000/svg\" height=\"24px\"viewBox=\"0 0 24 24\"\n",
              "     width=\"24px\">\n",
              "    <g>\n",
              "        <path d=\"M19 3H5c-1.1 0-2 .9-2 2v14c0 1.1.9 2 2 2h14c1.1 0 2-.9 2-2V5c0-1.1-.9-2-2-2zM9 17H7v-7h2v7zm4 0h-2V7h2v10zm4 0h-2v-4h2v4z\"/>\n",
              "    </g>\n",
              "</svg>\n",
              "      </button>\n",
              "\n",
              "<style>\n",
              "  .colab-df-quickchart {\n",
              "      --bg-color: #E8F0FE;\n",
              "      --fill-color: #1967D2;\n",
              "      --hover-bg-color: #E2EBFA;\n",
              "      --hover-fill-color: #174EA6;\n",
              "      --disabled-fill-color: #AAA;\n",
              "      --disabled-bg-color: #DDD;\n",
              "  }\n",
              "\n",
              "  [theme=dark] .colab-df-quickchart {\n",
              "      --bg-color: #3B4455;\n",
              "      --fill-color: #D2E3FC;\n",
              "      --hover-bg-color: #434B5C;\n",
              "      --hover-fill-color: #FFFFFF;\n",
              "      --disabled-bg-color: #3B4455;\n",
              "      --disabled-fill-color: #666;\n",
              "  }\n",
              "\n",
              "  .colab-df-quickchart {\n",
              "    background-color: var(--bg-color);\n",
              "    border: none;\n",
              "    border-radius: 50%;\n",
              "    cursor: pointer;\n",
              "    display: none;\n",
              "    fill: var(--fill-color);\n",
              "    height: 32px;\n",
              "    padding: 0;\n",
              "    width: 32px;\n",
              "  }\n",
              "\n",
              "  .colab-df-quickchart:hover {\n",
              "    background-color: var(--hover-bg-color);\n",
              "    box-shadow: 0 1px 2px rgba(60, 64, 67, 0.3), 0 1px 3px 1px rgba(60, 64, 67, 0.15);\n",
              "    fill: var(--button-hover-fill-color);\n",
              "  }\n",
              "\n",
              "  .colab-df-quickchart-complete:disabled,\n",
              "  .colab-df-quickchart-complete:disabled:hover {\n",
              "    background-color: var(--disabled-bg-color);\n",
              "    fill: var(--disabled-fill-color);\n",
              "    box-shadow: none;\n",
              "  }\n",
              "\n",
              "  .colab-df-spinner {\n",
              "    border: 2px solid var(--fill-color);\n",
              "    border-color: transparent;\n",
              "    border-bottom-color: var(--fill-color);\n",
              "    animation:\n",
              "      spin 1s steps(1) infinite;\n",
              "  }\n",
              "\n",
              "  @keyframes spin {\n",
              "    0% {\n",
              "      border-color: transparent;\n",
              "      border-bottom-color: var(--fill-color);\n",
              "      border-left-color: var(--fill-color);\n",
              "    }\n",
              "    20% {\n",
              "      border-color: transparent;\n",
              "      border-left-color: var(--fill-color);\n",
              "      border-top-color: var(--fill-color);\n",
              "    }\n",
              "    30% {\n",
              "      border-color: transparent;\n",
              "      border-left-color: var(--fill-color);\n",
              "      border-top-color: var(--fill-color);\n",
              "      border-right-color: var(--fill-color);\n",
              "    }\n",
              "    40% {\n",
              "      border-color: transparent;\n",
              "      border-right-color: var(--fill-color);\n",
              "      border-top-color: var(--fill-color);\n",
              "    }\n",
              "    60% {\n",
              "      border-color: transparent;\n",
              "      border-right-color: var(--fill-color);\n",
              "    }\n",
              "    80% {\n",
              "      border-color: transparent;\n",
              "      border-right-color: var(--fill-color);\n",
              "      border-bottom-color: var(--fill-color);\n",
              "    }\n",
              "    90% {\n",
              "      border-color: transparent;\n",
              "      border-bottom-color: var(--fill-color);\n",
              "    }\n",
              "  }\n",
              "</style>\n",
              "\n",
              "      <script>\n",
              "        async function quickchart(key) {\n",
              "          const quickchartButtonEl =\n",
              "            document.querySelector('#' + key + ' button');\n",
              "          quickchartButtonEl.disabled = true;  // To prevent multiple clicks.\n",
              "          quickchartButtonEl.classList.add('colab-df-spinner');\n",
              "          try {\n",
              "            const charts = await google.colab.kernel.invokeFunction(\n",
              "                'suggestCharts', [key], {});\n",
              "          } catch (error) {\n",
              "            console.error('Error during call to suggestCharts:', error);\n",
              "          }\n",
              "          quickchartButtonEl.classList.remove('colab-df-spinner');\n",
              "          quickchartButtonEl.classList.add('colab-df-quickchart-complete');\n",
              "        }\n",
              "        (() => {\n",
              "          let quickchartButtonEl =\n",
              "            document.querySelector('#df-7e926466-5a47-4cff-a7cd-b7ac0ca81534 button');\n",
              "          quickchartButtonEl.style.display =\n",
              "            google.colab.kernel.accessAllowed ? 'block' : 'none';\n",
              "        })();\n",
              "      </script>\n",
              "    </div>\n",
              "    </div>\n",
              "  </div>\n"
            ],
            "text/plain": [
              "                              education_institution  \\\n",
              "0                                     not mentioned   \n",
              "1                                     not mentioned   \n",
              "2                                     not mentioned   \n",
              "3         high school of music and art in manhattan   \n",
              "4                vassar college, fordham university   \n",
              "5                                     not mentioned   \n",
              "6  san jose state university, penn state university   \n",
              "7                   st john's university law school   \n",
              "8                                      hope college   \n",
              "9                                     not mentioned   \n",
              "\n",
              "                      education_institution_llama33  \n",
              "0                                              none  \n",
              "1                                              none  \n",
              "2                                              none  \n",
              "3                                              none  \n",
              "4                Vassar College, Fordham University  \n",
              "5                                              none  \n",
              "6  Penn State University, San Jose State University  \n",
              "7                  St. John's University Law School  \n",
              "8                                      Hope College  \n",
              "9                                              none  "
            ]
          },
          "execution_count": 15,
          "metadata": {},
          "output_type": "execute_result"
        }
      ],
      "source": [
        "# Reload the elements if needed for the comparison\n",
        "df = pd.read_csv(\"table_results.csv\")\n",
        "df_compare = df[[\"education_institution\",\"education_institution_llama33\"]]\n",
        "df_compare"
      ]
    },
    {
      "cell_type": "markdown",
      "metadata": {
        "id": "E_0WdT6Y7Zmi"
      },
      "source": [
        "### Define a cleaning function to compare\n",
        "\n"
      ]
    },
    {
      "cell_type": "code",
      "execution_count": null,
      "metadata": {
        "id": "WYB2t6NGTJuq"
      },
      "outputs": [],
      "source": [
        "import string # to get punctuation\n",
        "import Levenshtein # to measure the distance between strings\n",
        "import pandas as pd\n",
        "\n",
        "def clean(val:str):\n",
        "  \"\"\"\n",
        "  Clean strings\n",
        "  \"\"\"\n",
        "  if pd.isnull(val):\n",
        "    return None\n",
        "  # lower case without punctuation\n",
        "  val = val.lower().translate(str.maketrans('', '', string.punctuation))\n",
        "  # empty answer variations\n",
        "  if val in [\"not mentioned\", \"none\"]:\n",
        "    val = None\n",
        "  return val\n",
        "\n",
        "def eval_equality(str1:str, str2:str, distance_max:int = 1):\n",
        "  \"\"\"\n",
        "  Define equality between 2 strings\n",
        "  \"\"\"\n",
        "  # clean the string using function defined above\n",
        "  str1 = clean(str1)\n",
        "  str2 = clean(str2)\n",
        "\n",
        "  # case with the None value\n",
        "  if (str1 is None and str2) or (str1 and str2 is None):\n",
        "    return False\n",
        "  if str1 is None and str2 is None:\n",
        "    return True\n",
        "\n",
        "  # test equality\n",
        "\n",
        "  # strict\n",
        "  if str1 == str2:\n",
        "    return True\n",
        "\n",
        "  # with distance_max letters difference\n",
        "  distance = Levenshtein.distance(str1, str2)\n",
        "  if distance <= distance_max:\n",
        "    return True\n",
        "\n",
        "  return False"
      ]
    },
    {
      "cell_type": "markdown",
      "metadata": {
        "id": "ocL6D34J8RJ9"
      },
      "source": [
        "Add to the dataframe new columns with the post-processed values."
      ]
    },
    {
      "cell_type": "code",
      "execution_count": null,
      "metadata": {
        "id": "gQyPsZrCh5aG"
      },
      "outputs": [],
      "source": [
        "df_compare[\"education_institution_llama33_valid\"] = df_compare.apply(lambda x: eval_equality(x[\"education_institution\"], x[\"education_institution_llama33\"]), axis=1)"
      ]
    },
    {
      "cell_type": "markdown",
      "metadata": {
        "id": "zUn9REudIi8H"
      },
      "source": [
        "It is already better"
      ]
    },
    {
      "cell_type": "code",
      "execution_count": null,
      "metadata": {
        "colab": {
          "base_uri": "https://localhost:8080/"
        },
        "id": "AI--UvVkIigb",
        "outputId": "c1e5360f-8b5b-4b63-8b80-9d49cee16308"
      },
      "outputs": [
        {
          "data": {
            "text/plain": [
              "np.float64(0.8)"
            ]
          },
          "execution_count": 18,
          "metadata": {},
          "output_type": "execute_result"
        }
      ],
      "source": [
        "df_compare[\"education_institution_llama33_valid\"].mean()"
      ]
    },
    {
      "cell_type": "markdown",
      "metadata": {
        "id": "5ZN8t4ic_hnk"
      },
      "source": [
        "Export only cases featuring disagreement in a file."
      ]
    },
    {
      "cell_type": "code",
      "execution_count": null,
      "metadata": {
        "id": "wtAgf35B8-Kq"
      },
      "outputs": [],
      "source": [
        "# for llama3.3\n",
        "table = df_compare[~df_compare[\"education_institution_llama33_valid\"]][[\"education_institution\",\"education_institution_llama33\"]].reset_index()\n",
        "table[\"equal\"] = None\n",
        "table.to_excel(\"ie_education_institution_llama33_to_recode.xlsx\")"
      ]
    },
    {
      "cell_type": "markdown",
      "metadata": {
        "id": "7irNfWwSf1ZJ"
      },
      "source": [
        "The annotator needs then to rename the file from to_recode to recoded [to recode => recoded], and enter something (1, or X) in the column \"equal\" if he/she juges that the extracted value match the gold standard."
      ]
    },
    {
      "cell_type": "markdown",
      "metadata": {
        "id": "-_hz-KEl_lQ6"
      },
      "source": [
        "Reload the file after changes (and rename to `ie_education_institution_llama33_recoded.xlsx`) and match it with the data to compute performances."
      ]
    },
    {
      "cell_type": "code",
      "execution_count": null,
      "metadata": {
        "colab": {
          "background_save": true
        },
        "id": "wg8U6bxZ93p0"
      },
      "outputs": [],
      "source": [
        "from pathlib import Path\n",
        "\n",
        "if Path(\"ie_education_institution_llama33_recoded.xlsx\").exists():\n",
        "    # read the human annotated file\n",
        "    table_reco = pd.read_excel(\"ie_education_institution_llama33_recoded.xlsx\")\n",
        "\n",
        "    # get the id of the element reco\n",
        "    idx_human_feedback = table_reco[table_reco[\"equal\"].notnull()].index\n",
        "    df_compare.loc[idx_human_feedback, \"education_institution_llama33_valid\"] = True\n",
        "else:\n",
        "    print(\"No human feedback available for llama3.3\")"
      ]
    },
    {
      "cell_type": "code",
      "execution_count": null,
      "metadata": {
        "id": "rmgxgKc3fOv6"
      },
      "outputs": [],
      "source": [
        "df_compare[\"education_institution_llama33_valid\"].mean()"
      ]
    },
    {
      "cell_type": "markdown",
      "metadata": {
        "id": "QQ842qPchMdh"
      },
      "source": [
        "For the categorical data, it is possible to use classical metrics (f1, ...). Since the generation + the human loop can judge the generated information as equal to the gold standard - even if it is not exactly the same string, and we must \"smooth\", post-process the data before proceding."
      ]
    }
  ],
  "metadata": {
    "accelerator": "GPU",
    "colab": {
      "gpuType": "T4",
      "provenance": []
    },
    "kernelspec": {
      "display_name": "Python 3",
      "name": "python3"
    },
    "language_info": {
      "name": "python"
    }
  },
  "nbformat": 4,
  "nbformat_minor": 0
}
